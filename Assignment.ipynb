{
 "cells": [
  {
   "cell_type": "markdown",
   "id": "a18fd003",
   "metadata": {},
   "source": [
    "## Importing Necessary Libraries"
   ]
  },
  {
   "cell_type": "code",
   "execution_count": 292,
   "id": "336d7264",
   "metadata": {},
   "outputs": [],
   "source": [
    "import pandas as pd\n",
    "import numpy as np\n",
    "import re\n",
    "import nltk\n",
    "import seaborn as sns\n",
    "import matplotlib.pyplot as plt\n",
    "from sklearn import preprocessing\n",
    "from sklearn.linear_model import LinearRegression\n",
    "from sklearn.model_selection import GridSearchCV\n",
    "from sklearn.ensemble import RandomForestRegressor\n",
    "from sklearn.metrics import r2_score, mean_squared_error, accuracy_score\n",
    "\n",
    "from datetime import datetime\n",
    "from sklearn.feature_extraction.text import TfidfVectorizer\n",
    "from sklearn.model_selection import train_test_split\n",
    "from sklearn.linear_model import LogisticRegression\n",
    "from sklearn.multiclass import OneVsRestClassifier                              ## Binary Relavance\n",
    "from sklearn.metrics import accuracy_score                                       # Performance metric\n",
    "from nltk.stem import PorterStemmer\n",
    "from nltk.stem import WordNetLemmatizer\n",
    "from sklearn.preprocessing import LabelEncoder\n",
    "from sklearn.metrics import accuracy_score \n",
    "from sklearn.metrics import classification_report\n",
    "from sklearn import svm\n"
   ]
  },
  {
   "cell_type": "markdown",
   "id": "cc3b2028",
   "metadata": {},
   "source": [
    "## Data Collection"
   ]
  },
  {
   "cell_type": "code",
   "execution_count": 293,
   "id": "c0696003",
   "metadata": {
    "scrolled": false
   },
   "outputs": [
    {
     "data": {
      "text/html": [
       "<div>\n",
       "<style scoped>\n",
       "    .dataframe tbody tr th:only-of-type {\n",
       "        vertical-align: middle;\n",
       "    }\n",
       "\n",
       "    .dataframe tbody tr th {\n",
       "        vertical-align: top;\n",
       "    }\n",
       "\n",
       "    .dataframe thead th {\n",
       "        text-align: right;\n",
       "    }\n",
       "</style>\n",
       "<table border=\"1\" class=\"dataframe\">\n",
       "  <thead>\n",
       "    <tr style=\"text-align: right;\">\n",
       "      <th></th>\n",
       "      <th>Unnamed: 0</th>\n",
       "      <th>title</th>\n",
       "      <th>rating</th>\n",
       "      <th>name</th>\n",
       "      <th>num_ratings</th>\n",
       "      <th>num_reviews</th>\n",
       "      <th>num_followers</th>\n",
       "      <th>synopsis</th>\n",
       "      <th>genre</th>\n",
       "    </tr>\n",
       "  </thead>\n",
       "  <tbody>\n",
       "    <tr>\n",
       "      <th>0</th>\n",
       "      <td>0</td>\n",
       "      <td>Sapiens: A Brief History of Humankind</td>\n",
       "      <td>4.39</td>\n",
       "      <td>Yuval Noah Harari</td>\n",
       "      <td>8,06,229</td>\n",
       "      <td>46,149</td>\n",
       "      <td>30.5k</td>\n",
       "      <td>100,000 years ago, at least six human species ...</td>\n",
       "      <td>history</td>\n",
       "    </tr>\n",
       "    <tr>\n",
       "      <th>1</th>\n",
       "      <td>1</td>\n",
       "      <td>Guns, Germs, and Steel: The Fates of Human Soc...</td>\n",
       "      <td>4.04</td>\n",
       "      <td>Jared Diamond</td>\n",
       "      <td>3,67,056</td>\n",
       "      <td>12,879</td>\n",
       "      <td>6,538</td>\n",
       "      <td>\"Diamond has written a book of remarkable scop...</td>\n",
       "      <td>history</td>\n",
       "    </tr>\n",
       "    <tr>\n",
       "      <th>2</th>\n",
       "      <td>2</td>\n",
       "      <td>A People's History of the United States</td>\n",
       "      <td>4.07</td>\n",
       "      <td>Howard Zinn</td>\n",
       "      <td>2,24,620</td>\n",
       "      <td>6,509</td>\n",
       "      <td>2,354</td>\n",
       "      <td>In the book, Zinn presented a different side o...</td>\n",
       "      <td>history</td>\n",
       "    </tr>\n",
       "    <tr>\n",
       "      <th>3</th>\n",
       "      <td>3</td>\n",
       "      <td>The Devil in the White City: Murder, Magic, an...</td>\n",
       "      <td>3.99</td>\n",
       "      <td>Erik Larson</td>\n",
       "      <td>6,13,157</td>\n",
       "      <td>36,644</td>\n",
       "      <td>64.2k</td>\n",
       "      <td>Author Erik Larson imbues the incredible event...</td>\n",
       "      <td>history</td>\n",
       "    </tr>\n",
       "    <tr>\n",
       "      <th>4</th>\n",
       "      <td>4</td>\n",
       "      <td>The Diary of a Young Girl</td>\n",
       "      <td>4.18</td>\n",
       "      <td>Anne Frank</td>\n",
       "      <td>33,13,033</td>\n",
       "      <td>35,591</td>\n",
       "      <td>4,621</td>\n",
       "      <td>Discovered in the attic in which she spent the...</td>\n",
       "      <td>history</td>\n",
       "    </tr>\n",
       "    <tr>\n",
       "      <th>...</th>\n",
       "      <td>...</td>\n",
       "      <td>...</td>\n",
       "      <td>...</td>\n",
       "      <td>...</td>\n",
       "      <td>...</td>\n",
       "      <td>...</td>\n",
       "      <td>...</td>\n",
       "      <td>...</td>\n",
       "      <td>...</td>\n",
       "    </tr>\n",
       "    <tr>\n",
       "      <th>1534</th>\n",
       "      <td>1534</td>\n",
       "      <td>Hounded</td>\n",
       "      <td>4.09</td>\n",
       "      <td>Kevin Hearne</td>\n",
       "      <td>83,827</td>\n",
       "      <td>7,203</td>\n",
       "      <td>11,905</td>\n",
       "      <td>Atticus O’Sullivan, last of the Druids, lives ...</td>\n",
       "      <td>fantasy</td>\n",
       "    </tr>\n",
       "    <tr>\n",
       "      <th>1535</th>\n",
       "      <td>1535</td>\n",
       "      <td>Charlie and the Chocolate Factory</td>\n",
       "      <td>4.15</td>\n",
       "      <td>Roald Dahl</td>\n",
       "      <td>7,75,001</td>\n",
       "      <td>14,252</td>\n",
       "      <td>22,897</td>\n",
       "      <td>Charlie Bucket's wonderful adventure begins wh...</td>\n",
       "      <td>fantasy</td>\n",
       "    </tr>\n",
       "    <tr>\n",
       "      <th>1536</th>\n",
       "      <td>1536</td>\n",
       "      <td>Red Rising</td>\n",
       "      <td>4.25</td>\n",
       "      <td>Pierce Brown</td>\n",
       "      <td>3,10,138</td>\n",
       "      <td>30,388</td>\n",
       "      <td>30,510</td>\n",
       "      <td>\"I live for the dream that my children will be...</td>\n",
       "      <td>fantasy</td>\n",
       "    </tr>\n",
       "    <tr>\n",
       "      <th>1537</th>\n",
       "      <td>1537</td>\n",
       "      <td>Frostbite</td>\n",
       "      <td>4.26</td>\n",
       "      <td>Richelle Mead</td>\n",
       "      <td>3,37,538</td>\n",
       "      <td>12,435</td>\n",
       "      <td>66,448</td>\n",
       "      <td>Rose loves Dimitri, Dimitri might love Tasha, ...</td>\n",
       "      <td>fantasy</td>\n",
       "    </tr>\n",
       "    <tr>\n",
       "      <th>1538</th>\n",
       "      <td>1538</td>\n",
       "      <td>Radiance</td>\n",
       "      <td>4.03</td>\n",
       "      <td>Grace Draven</td>\n",
       "      <td>50,102</td>\n",
       "      <td>5,550</td>\n",
       "      <td>6,090</td>\n",
       "      <td>The Prince of no value\\nBrishen Khaskem, princ...</td>\n",
       "      <td>fantasy</td>\n",
       "    </tr>\n",
       "  </tbody>\n",
       "</table>\n",
       "<p>1539 rows × 9 columns</p>\n",
       "</div>"
      ],
      "text/plain": [
       "      Unnamed: 0                                              title  rating  \\\n",
       "0              0              Sapiens: A Brief History of Humankind    4.39   \n",
       "1              1  Guns, Germs, and Steel: The Fates of Human Soc...    4.04   \n",
       "2              2            A People's History of the United States    4.07   \n",
       "3              3  The Devil in the White City: Murder, Magic, an...    3.99   \n",
       "4              4                          The Diary of a Young Girl    4.18   \n",
       "...          ...                                                ...     ...   \n",
       "1534        1534                                            Hounded    4.09   \n",
       "1535        1535                  Charlie and the Chocolate Factory    4.15   \n",
       "1536        1536                                         Red Rising    4.25   \n",
       "1537        1537                                          Frostbite    4.26   \n",
       "1538        1538                                           Radiance    4.03   \n",
       "\n",
       "                   name num_ratings num_reviews num_followers  \\\n",
       "0     Yuval Noah Harari    8,06,229      46,149         30.5k   \n",
       "1         Jared Diamond    3,67,056      12,879         6,538   \n",
       "2           Howard Zinn    2,24,620       6,509         2,354   \n",
       "3           Erik Larson    6,13,157      36,644         64.2k   \n",
       "4            Anne Frank   33,13,033      35,591         4,621   \n",
       "...                 ...         ...         ...           ...   \n",
       "1534       Kevin Hearne      83,827       7,203        11,905   \n",
       "1535         Roald Dahl    7,75,001      14,252        22,897   \n",
       "1536       Pierce Brown    3,10,138      30,388        30,510   \n",
       "1537      Richelle Mead    3,37,538      12,435        66,448   \n",
       "1538       Grace Draven      50,102       5,550         6,090   \n",
       "\n",
       "                                               synopsis    genre  \n",
       "0     100,000 years ago, at least six human species ...  history  \n",
       "1     \"Diamond has written a book of remarkable scop...  history  \n",
       "2     In the book, Zinn presented a different side o...  history  \n",
       "3     Author Erik Larson imbues the incredible event...  history  \n",
       "4     Discovered in the attic in which she spent the...  history  \n",
       "...                                                 ...      ...  \n",
       "1534  Atticus O’Sullivan, last of the Druids, lives ...  fantasy  \n",
       "1535  Charlie Bucket's wonderful adventure begins wh...  fantasy  \n",
       "1536  \"I live for the dream that my children will be...  fantasy  \n",
       "1537  Rose loves Dimitri, Dimitri might love Tasha, ...  fantasy  \n",
       "1538  The Prince of no value\\nBrishen Khaskem, princ...  fantasy  \n",
       "\n",
       "[1539 rows x 9 columns]"
      ]
     },
     "execution_count": 293,
     "metadata": {},
     "output_type": "execute_result"
    }
   ],
   "source": [
    "book_data = pd.read_csv('DA-AI-ML-interview-assignment-Data.csv')\n",
    "book_data"
   ]
  },
  {
   "cell_type": "markdown",
   "id": "7db69aa3",
   "metadata": {},
   "source": [
    "## Data Understanding\n",
    "    Initial Analysis"
   ]
  },
  {
   "cell_type": "code",
   "execution_count": 294,
   "id": "06a2a9ad",
   "metadata": {
    "scrolled": true
   },
   "outputs": [
    {
     "data": {
      "text/plain": [
       "(1539, 9)"
      ]
     },
     "execution_count": 294,
     "metadata": {},
     "output_type": "execute_result"
    }
   ],
   "source": [
    "book_data.shape ## Here we can see the dataframe consists of 1539 rows and 9 columns"
   ]
  },
  {
   "cell_type": "code",
   "execution_count": 295,
   "id": "9964fa9e",
   "metadata": {},
   "outputs": [
    {
     "data": {
      "text/plain": [
       "Unnamed: 0       0\n",
       "title            0\n",
       "rating           0\n",
       "name             0\n",
       "num_ratings      0\n",
       "num_reviews      0\n",
       "num_followers    0\n",
       "synopsis         0\n",
       "genre            0\n",
       "dtype: int64"
      ]
     },
     "execution_count": 295,
     "metadata": {},
     "output_type": "execute_result"
    }
   ],
   "source": [
    "book_data.isna().sum() ## Here we have checked whether null values present in the data or not. As, you can see they are no null values in the data."
   ]
  },
  {
   "cell_type": "code",
   "execution_count": 296,
   "id": "8f433658",
   "metadata": {},
   "outputs": [
    {
     "data": {
      "text/html": [
       "<div>\n",
       "<style scoped>\n",
       "    .dataframe tbody tr th:only-of-type {\n",
       "        vertical-align: middle;\n",
       "    }\n",
       "\n",
       "    .dataframe tbody tr th {\n",
       "        vertical-align: top;\n",
       "    }\n",
       "\n",
       "    .dataframe thead th {\n",
       "        text-align: right;\n",
       "    }\n",
       "</style>\n",
       "<table border=\"1\" class=\"dataframe\">\n",
       "  <thead>\n",
       "    <tr style=\"text-align: right;\">\n",
       "      <th></th>\n",
       "      <th>title</th>\n",
       "      <th>rating</th>\n",
       "      <th>name</th>\n",
       "      <th>num_ratings</th>\n",
       "      <th>num_reviews</th>\n",
       "      <th>num_followers</th>\n",
       "      <th>synopsis</th>\n",
       "      <th>genre</th>\n",
       "    </tr>\n",
       "  </thead>\n",
       "  <tbody>\n",
       "    <tr>\n",
       "      <th>0</th>\n",
       "      <td>Sapiens: A Brief History of Humankind</td>\n",
       "      <td>4.39</td>\n",
       "      <td>Yuval Noah Harari</td>\n",
       "      <td>8,06,229</td>\n",
       "      <td>46,149</td>\n",
       "      <td>30.5k</td>\n",
       "      <td>100,000 years ago, at least six human species ...</td>\n",
       "      <td>history</td>\n",
       "    </tr>\n",
       "    <tr>\n",
       "      <th>1</th>\n",
       "      <td>Guns, Germs, and Steel: The Fates of Human Soc...</td>\n",
       "      <td>4.04</td>\n",
       "      <td>Jared Diamond</td>\n",
       "      <td>3,67,056</td>\n",
       "      <td>12,879</td>\n",
       "      <td>6,538</td>\n",
       "      <td>\"Diamond has written a book of remarkable scop...</td>\n",
       "      <td>history</td>\n",
       "    </tr>\n",
       "    <tr>\n",
       "      <th>2</th>\n",
       "      <td>A People's History of the United States</td>\n",
       "      <td>4.07</td>\n",
       "      <td>Howard Zinn</td>\n",
       "      <td>2,24,620</td>\n",
       "      <td>6,509</td>\n",
       "      <td>2,354</td>\n",
       "      <td>In the book, Zinn presented a different side o...</td>\n",
       "      <td>history</td>\n",
       "    </tr>\n",
       "    <tr>\n",
       "      <th>3</th>\n",
       "      <td>The Devil in the White City: Murder, Magic, an...</td>\n",
       "      <td>3.99</td>\n",
       "      <td>Erik Larson</td>\n",
       "      <td>6,13,157</td>\n",
       "      <td>36,644</td>\n",
       "      <td>64.2k</td>\n",
       "      <td>Author Erik Larson imbues the incredible event...</td>\n",
       "      <td>history</td>\n",
       "    </tr>\n",
       "    <tr>\n",
       "      <th>4</th>\n",
       "      <td>The Diary of a Young Girl</td>\n",
       "      <td>4.18</td>\n",
       "      <td>Anne Frank</td>\n",
       "      <td>33,13,033</td>\n",
       "      <td>35,591</td>\n",
       "      <td>4,621</td>\n",
       "      <td>Discovered in the attic in which she spent the...</td>\n",
       "      <td>history</td>\n",
       "    </tr>\n",
       "    <tr>\n",
       "      <th>...</th>\n",
       "      <td>...</td>\n",
       "      <td>...</td>\n",
       "      <td>...</td>\n",
       "      <td>...</td>\n",
       "      <td>...</td>\n",
       "      <td>...</td>\n",
       "      <td>...</td>\n",
       "      <td>...</td>\n",
       "    </tr>\n",
       "    <tr>\n",
       "      <th>1534</th>\n",
       "      <td>Hounded</td>\n",
       "      <td>4.09</td>\n",
       "      <td>Kevin Hearne</td>\n",
       "      <td>83,827</td>\n",
       "      <td>7,203</td>\n",
       "      <td>11,905</td>\n",
       "      <td>Atticus O’Sullivan, last of the Druids, lives ...</td>\n",
       "      <td>fantasy</td>\n",
       "    </tr>\n",
       "    <tr>\n",
       "      <th>1535</th>\n",
       "      <td>Charlie and the Chocolate Factory</td>\n",
       "      <td>4.15</td>\n",
       "      <td>Roald Dahl</td>\n",
       "      <td>7,75,001</td>\n",
       "      <td>14,252</td>\n",
       "      <td>22,897</td>\n",
       "      <td>Charlie Bucket's wonderful adventure begins wh...</td>\n",
       "      <td>fantasy</td>\n",
       "    </tr>\n",
       "    <tr>\n",
       "      <th>1536</th>\n",
       "      <td>Red Rising</td>\n",
       "      <td>4.25</td>\n",
       "      <td>Pierce Brown</td>\n",
       "      <td>3,10,138</td>\n",
       "      <td>30,388</td>\n",
       "      <td>30,510</td>\n",
       "      <td>\"I live for the dream that my children will be...</td>\n",
       "      <td>fantasy</td>\n",
       "    </tr>\n",
       "    <tr>\n",
       "      <th>1537</th>\n",
       "      <td>Frostbite</td>\n",
       "      <td>4.26</td>\n",
       "      <td>Richelle Mead</td>\n",
       "      <td>3,37,538</td>\n",
       "      <td>12,435</td>\n",
       "      <td>66,448</td>\n",
       "      <td>Rose loves Dimitri, Dimitri might love Tasha, ...</td>\n",
       "      <td>fantasy</td>\n",
       "    </tr>\n",
       "    <tr>\n",
       "      <th>1538</th>\n",
       "      <td>Radiance</td>\n",
       "      <td>4.03</td>\n",
       "      <td>Grace Draven</td>\n",
       "      <td>50,102</td>\n",
       "      <td>5,550</td>\n",
       "      <td>6,090</td>\n",
       "      <td>The Prince of no value\\nBrishen Khaskem, princ...</td>\n",
       "      <td>fantasy</td>\n",
       "    </tr>\n",
       "  </tbody>\n",
       "</table>\n",
       "<p>1539 rows × 8 columns</p>\n",
       "</div>"
      ],
      "text/plain": [
       "                                                  title  rating  \\\n",
       "0                 Sapiens: A Brief History of Humankind    4.39   \n",
       "1     Guns, Germs, and Steel: The Fates of Human Soc...    4.04   \n",
       "2               A People's History of the United States    4.07   \n",
       "3     The Devil in the White City: Murder, Magic, an...    3.99   \n",
       "4                             The Diary of a Young Girl    4.18   \n",
       "...                                                 ...     ...   \n",
       "1534                                            Hounded    4.09   \n",
       "1535                  Charlie and the Chocolate Factory    4.15   \n",
       "1536                                         Red Rising    4.25   \n",
       "1537                                          Frostbite    4.26   \n",
       "1538                                           Radiance    4.03   \n",
       "\n",
       "                   name num_ratings num_reviews num_followers  \\\n",
       "0     Yuval Noah Harari    8,06,229      46,149         30.5k   \n",
       "1         Jared Diamond    3,67,056      12,879         6,538   \n",
       "2           Howard Zinn    2,24,620       6,509         2,354   \n",
       "3           Erik Larson    6,13,157      36,644         64.2k   \n",
       "4            Anne Frank   33,13,033      35,591         4,621   \n",
       "...                 ...         ...         ...           ...   \n",
       "1534       Kevin Hearne      83,827       7,203        11,905   \n",
       "1535         Roald Dahl    7,75,001      14,252        22,897   \n",
       "1536       Pierce Brown    3,10,138      30,388        30,510   \n",
       "1537      Richelle Mead    3,37,538      12,435        66,448   \n",
       "1538       Grace Draven      50,102       5,550         6,090   \n",
       "\n",
       "                                               synopsis    genre  \n",
       "0     100,000 years ago, at least six human species ...  history  \n",
       "1     \"Diamond has written a book of remarkable scop...  history  \n",
       "2     In the book, Zinn presented a different side o...  history  \n",
       "3     Author Erik Larson imbues the incredible event...  history  \n",
       "4     Discovered in the attic in which she spent the...  history  \n",
       "...                                                 ...      ...  \n",
       "1534  Atticus O’Sullivan, last of the Druids, lives ...  fantasy  \n",
       "1535  Charlie Bucket's wonderful adventure begins wh...  fantasy  \n",
       "1536  \"I live for the dream that my children will be...  fantasy  \n",
       "1537  Rose loves Dimitri, Dimitri might love Tasha, ...  fantasy  \n",
       "1538  The Prince of no value\\nBrishen Khaskem, princ...  fantasy  \n",
       "\n",
       "[1539 rows x 8 columns]"
      ]
     },
     "execution_count": 296,
     "metadata": {},
     "output_type": "execute_result"
    }
   ],
   "source": [
    "book2 = book_data.iloc[:,1:] ## Here by using iloc() function i removed the unwanted index column unnamed.\n",
    "book2"
   ]
  },
  {
   "cell_type": "code",
   "execution_count": 297,
   "id": "3f7394f4",
   "metadata": {},
   "outputs": [
    {
     "name": "stdout",
     "output_type": "stream",
     "text": [
      "<class 'pandas.core.frame.DataFrame'>\n",
      "RangeIndex: 1539 entries, 0 to 1538\n",
      "Data columns (total 8 columns):\n",
      " #   Column         Non-Null Count  Dtype  \n",
      "---  ------         --------------  -----  \n",
      " 0   title          1539 non-null   object \n",
      " 1   rating         1539 non-null   float64\n",
      " 2   name           1539 non-null   object \n",
      " 3   num_ratings    1539 non-null   object \n",
      " 4   num_reviews    1539 non-null   object \n",
      " 5   num_followers  1539 non-null   object \n",
      " 6   synopsis       1539 non-null   object \n",
      " 7   genre          1539 non-null   object \n",
      "dtypes: float64(1), object(7)\n",
      "memory usage: 96.3+ KB\n"
     ]
    }
   ],
   "source": [
    "book2.info() ## BY using the method you can know the entire information of the dataframe "
   ]
  },
  {
   "cell_type": "code",
   "execution_count": 298,
   "id": "521657cb",
   "metadata": {},
   "outputs": [
    {
     "data": {
      "text/html": [
       "<div>\n",
       "<style scoped>\n",
       "    .dataframe tbody tr th:only-of-type {\n",
       "        vertical-align: middle;\n",
       "    }\n",
       "\n",
       "    .dataframe tbody tr th {\n",
       "        vertical-align: top;\n",
       "    }\n",
       "\n",
       "    .dataframe thead th {\n",
       "        text-align: right;\n",
       "    }\n",
       "</style>\n",
       "<table border=\"1\" class=\"dataframe\">\n",
       "  <thead>\n",
       "    <tr style=\"text-align: right;\">\n",
       "      <th></th>\n",
       "      <th>rating</th>\n",
       "    </tr>\n",
       "  </thead>\n",
       "  <tbody>\n",
       "    <tr>\n",
       "      <th>count</th>\n",
       "      <td>1539.000000</td>\n",
       "    </tr>\n",
       "    <tr>\n",
       "      <th>mean</th>\n",
       "      <td>4.037518</td>\n",
       "    </tr>\n",
       "    <tr>\n",
       "      <th>std</th>\n",
       "      <td>0.225939</td>\n",
       "    </tr>\n",
       "    <tr>\n",
       "      <th>min</th>\n",
       "      <td>2.780000</td>\n",
       "    </tr>\n",
       "    <tr>\n",
       "      <th>25%</th>\n",
       "      <td>3.905000</td>\n",
       "    </tr>\n",
       "    <tr>\n",
       "      <th>50%</th>\n",
       "      <td>4.050000</td>\n",
       "    </tr>\n",
       "    <tr>\n",
       "      <th>75%</th>\n",
       "      <td>4.180000</td>\n",
       "    </tr>\n",
       "    <tr>\n",
       "      <th>max</th>\n",
       "      <td>4.750000</td>\n",
       "    </tr>\n",
       "  </tbody>\n",
       "</table>\n",
       "</div>"
      ],
      "text/plain": [
       "            rating\n",
       "count  1539.000000\n",
       "mean      4.037518\n",
       "std       0.225939\n",
       "min       2.780000\n",
       "25%       3.905000\n",
       "50%       4.050000\n",
       "75%       4.180000\n",
       "max       4.750000"
      ]
     },
     "execution_count": 298,
     "metadata": {},
     "output_type": "execute_result"
    }
   ],
   "source": [
    "book2.describe() ## Shows the description of the data like mean, median values"
   ]
  },
  {
   "cell_type": "code",
   "execution_count": 299,
   "id": "87817a2f",
   "metadata": {},
   "outputs": [
    {
     "data": {
      "text/plain": [
       "1539"
      ]
     },
     "execution_count": 299,
     "metadata": {},
     "output_type": "execute_result"
    }
   ],
   "source": [
    "len(book2['title'].unique()) ## so here i have checked whether they are any unique book titles but we can see that all books are unique."
   ]
  },
  {
   "cell_type": "code",
   "execution_count": 300,
   "id": "7b717bca",
   "metadata": {},
   "outputs": [
    {
     "data": {
      "text/plain": [
       "10"
      ]
     },
     "execution_count": 300,
     "metadata": {},
     "output_type": "execute_result"
    }
   ],
   "source": [
    "len(book2['genre'].unique()) ## Here we can see that they are 10 unique genres of books "
   ]
  },
  {
   "cell_type": "code",
   "execution_count": 301,
   "id": "b9da143a",
   "metadata": {},
   "outputs": [
    {
     "data": {
      "text/plain": [
       "thriller           481\n",
       "fantasy            348\n",
       "romance            111\n",
       "horror             100\n",
       "psychology          99\n",
       "history             99\n",
       "travel              98\n",
       "sports              79\n",
       "science             79\n",
       "science_fiction     45\n",
       "Name: genre, dtype: int64"
      ]
     },
     "execution_count": 301,
     "metadata": {},
     "output_type": "execute_result"
    }
   ],
   "source": [
    "book2['genre'].value_counts() ## no of books in each genre where the highest are thriller books."
   ]
  },
  {
   "cell_type": "code",
   "execution_count": 302,
   "id": "d5ada5fa",
   "metadata": {},
   "outputs": [
    {
     "data": {
      "text/plain": [
       "title             object\n",
       "rating           float64\n",
       "name              object\n",
       "num_ratings       object\n",
       "num_reviews       object\n",
       "num_followers     object\n",
       "synopsis          object\n",
       "genre             object\n",
       "dtype: object"
      ]
     },
     "execution_count": 302,
     "metadata": {},
     "output_type": "execute_result"
    }
   ],
   "source": [
    "book2.dtypes ## Here we can see that the datatype for num_ratings, num_reviews, num_followers should be in int. so lets convert them into int"
   ]
  },
  {
   "cell_type": "code",
   "execution_count": 303,
   "id": "df88818a",
   "metadata": {},
   "outputs": [
    {
     "data": {
      "text/html": [
       "<div>\n",
       "<style scoped>\n",
       "    .dataframe tbody tr th:only-of-type {\n",
       "        vertical-align: middle;\n",
       "    }\n",
       "\n",
       "    .dataframe tbody tr th {\n",
       "        vertical-align: top;\n",
       "    }\n",
       "\n",
       "    .dataframe thead th {\n",
       "        text-align: right;\n",
       "    }\n",
       "</style>\n",
       "<table border=\"1\" class=\"dataframe\">\n",
       "  <thead>\n",
       "    <tr style=\"text-align: right;\">\n",
       "      <th></th>\n",
       "      <th>title</th>\n",
       "      <th>rating</th>\n",
       "      <th>name</th>\n",
       "      <th>num_ratings</th>\n",
       "      <th>num_reviews</th>\n",
       "      <th>num_followers</th>\n",
       "      <th>synopsis</th>\n",
       "      <th>genre</th>\n",
       "    </tr>\n",
       "  </thead>\n",
       "  <tbody>\n",
       "    <tr>\n",
       "      <th>0</th>\n",
       "      <td>Sapiens: A Brief History of Humankind</td>\n",
       "      <td>4.39</td>\n",
       "      <td>Yuval Noah Harari</td>\n",
       "      <td>806229</td>\n",
       "      <td>46149</td>\n",
       "      <td>30.5k</td>\n",
       "      <td>100,000 years ago, at least six human species ...</td>\n",
       "      <td>history</td>\n",
       "    </tr>\n",
       "    <tr>\n",
       "      <th>1</th>\n",
       "      <td>Guns, Germs, and Steel: The Fates of Human Soc...</td>\n",
       "      <td>4.04</td>\n",
       "      <td>Jared Diamond</td>\n",
       "      <td>367056</td>\n",
       "      <td>12879</td>\n",
       "      <td>6538</td>\n",
       "      <td>\"Diamond has written a book of remarkable scop...</td>\n",
       "      <td>history</td>\n",
       "    </tr>\n",
       "    <tr>\n",
       "      <th>2</th>\n",
       "      <td>A People's History of the United States</td>\n",
       "      <td>4.07</td>\n",
       "      <td>Howard Zinn</td>\n",
       "      <td>224620</td>\n",
       "      <td>6509</td>\n",
       "      <td>2354</td>\n",
       "      <td>In the book, Zinn presented a different side o...</td>\n",
       "      <td>history</td>\n",
       "    </tr>\n",
       "    <tr>\n",
       "      <th>3</th>\n",
       "      <td>The Devil in the White City: Murder, Magic, an...</td>\n",
       "      <td>3.99</td>\n",
       "      <td>Erik Larson</td>\n",
       "      <td>613157</td>\n",
       "      <td>36644</td>\n",
       "      <td>64.2k</td>\n",
       "      <td>Author Erik Larson imbues the incredible event...</td>\n",
       "      <td>history</td>\n",
       "    </tr>\n",
       "    <tr>\n",
       "      <th>4</th>\n",
       "      <td>The Diary of a Young Girl</td>\n",
       "      <td>4.18</td>\n",
       "      <td>Anne Frank</td>\n",
       "      <td>3313033</td>\n",
       "      <td>35591</td>\n",
       "      <td>4621</td>\n",
       "      <td>Discovered in the attic in which she spent the...</td>\n",
       "      <td>history</td>\n",
       "    </tr>\n",
       "    <tr>\n",
       "      <th>...</th>\n",
       "      <td>...</td>\n",
       "      <td>...</td>\n",
       "      <td>...</td>\n",
       "      <td>...</td>\n",
       "      <td>...</td>\n",
       "      <td>...</td>\n",
       "      <td>...</td>\n",
       "      <td>...</td>\n",
       "    </tr>\n",
       "    <tr>\n",
       "      <th>1534</th>\n",
       "      <td>Hounded</td>\n",
       "      <td>4.09</td>\n",
       "      <td>Kevin Hearne</td>\n",
       "      <td>83827</td>\n",
       "      <td>7203</td>\n",
       "      <td>11905</td>\n",
       "      <td>Atticus O’Sullivan, last of the Druids, lives ...</td>\n",
       "      <td>fantasy</td>\n",
       "    </tr>\n",
       "    <tr>\n",
       "      <th>1535</th>\n",
       "      <td>Charlie and the Chocolate Factory</td>\n",
       "      <td>4.15</td>\n",
       "      <td>Roald Dahl</td>\n",
       "      <td>775001</td>\n",
       "      <td>14252</td>\n",
       "      <td>22897</td>\n",
       "      <td>Charlie Bucket's wonderful adventure begins wh...</td>\n",
       "      <td>fantasy</td>\n",
       "    </tr>\n",
       "    <tr>\n",
       "      <th>1536</th>\n",
       "      <td>Red Rising</td>\n",
       "      <td>4.25</td>\n",
       "      <td>Pierce Brown</td>\n",
       "      <td>310138</td>\n",
       "      <td>30388</td>\n",
       "      <td>30510</td>\n",
       "      <td>\"I live for the dream that my children will be...</td>\n",
       "      <td>fantasy</td>\n",
       "    </tr>\n",
       "    <tr>\n",
       "      <th>1537</th>\n",
       "      <td>Frostbite</td>\n",
       "      <td>4.26</td>\n",
       "      <td>Richelle Mead</td>\n",
       "      <td>337538</td>\n",
       "      <td>12435</td>\n",
       "      <td>66448</td>\n",
       "      <td>Rose loves Dimitri, Dimitri might love Tasha, ...</td>\n",
       "      <td>fantasy</td>\n",
       "    </tr>\n",
       "    <tr>\n",
       "      <th>1538</th>\n",
       "      <td>Radiance</td>\n",
       "      <td>4.03</td>\n",
       "      <td>Grace Draven</td>\n",
       "      <td>50102</td>\n",
       "      <td>5550</td>\n",
       "      <td>6090</td>\n",
       "      <td>The Prince of no value\\nBrishen Khaskem, princ...</td>\n",
       "      <td>fantasy</td>\n",
       "    </tr>\n",
       "  </tbody>\n",
       "</table>\n",
       "<p>1539 rows × 8 columns</p>\n",
       "</div>"
      ],
      "text/plain": [
       "                                                  title  rating  \\\n",
       "0                 Sapiens: A Brief History of Humankind    4.39   \n",
       "1     Guns, Germs, and Steel: The Fates of Human Soc...    4.04   \n",
       "2               A People's History of the United States    4.07   \n",
       "3     The Devil in the White City: Murder, Magic, an...    3.99   \n",
       "4                             The Diary of a Young Girl    4.18   \n",
       "...                                                 ...     ...   \n",
       "1534                                            Hounded    4.09   \n",
       "1535                  Charlie and the Chocolate Factory    4.15   \n",
       "1536                                         Red Rising    4.25   \n",
       "1537                                          Frostbite    4.26   \n",
       "1538                                           Radiance    4.03   \n",
       "\n",
       "                   name num_ratings num_reviews num_followers  \\\n",
       "0     Yuval Noah Harari      806229       46149         30.5k   \n",
       "1         Jared Diamond      367056       12879          6538   \n",
       "2           Howard Zinn      224620        6509          2354   \n",
       "3           Erik Larson      613157       36644         64.2k   \n",
       "4            Anne Frank     3313033       35591          4621   \n",
       "...                 ...         ...         ...           ...   \n",
       "1534       Kevin Hearne       83827        7203         11905   \n",
       "1535         Roald Dahl      775001       14252         22897   \n",
       "1536       Pierce Brown      310138       30388         30510   \n",
       "1537      Richelle Mead      337538       12435         66448   \n",
       "1538       Grace Draven       50102        5550          6090   \n",
       "\n",
       "                                               synopsis    genre  \n",
       "0     100,000 years ago, at least six human species ...  history  \n",
       "1     \"Diamond has written a book of remarkable scop...  history  \n",
       "2     In the book, Zinn presented a different side o...  history  \n",
       "3     Author Erik Larson imbues the incredible event...  history  \n",
       "4     Discovered in the attic in which she spent the...  history  \n",
       "...                                                 ...      ...  \n",
       "1534  Atticus O’Sullivan, last of the Druids, lives ...  fantasy  \n",
       "1535  Charlie Bucket's wonderful adventure begins wh...  fantasy  \n",
       "1536  \"I live for the dream that my children will be...  fantasy  \n",
       "1537  Rose loves Dimitri, Dimitri might love Tasha, ...  fantasy  \n",
       "1538  The Prince of no value\\nBrishen Khaskem, princ...  fantasy  \n",
       "\n",
       "[1539 rows x 8 columns]"
      ]
     },
     "execution_count": 303,
     "metadata": {},
     "output_type": "execute_result"
    }
   ],
   "source": [
    "book2['num_followers']=book2['num_followers'].str.replace(',','')\n",
    "book2['num_reviews']=book2['num_reviews'].str.replace(',','')       ## Here I have removed the commas in the data to convert into integer.\n",
    "book2['num_ratings']=book2['num_ratings'].str.replace(',','')\n",
    "book2"
   ]
  },
  {
   "cell_type": "code",
   "execution_count": 304,
   "id": "cc187cba",
   "metadata": {},
   "outputs": [],
   "source": [
    "import warnings                            ## to ignore unnecessary warnings\n",
    "warnings.filterwarnings(action=\"ignore\")"
   ]
  },
  {
   "cell_type": "code",
   "execution_count": 305,
   "id": "b84fa795",
   "metadata": {},
   "outputs": [],
   "source": [
    "def foll_clean(s):\n",
    "    if s[-1] == 'k':                       ## Here created a funtion as we need to handle \"k\" which is 1000. we replaced substring with another substring. So, from object we converted it int.\n",
    "        s = re.sub(r'[,a-zA-Z]', \"\", s)\n",
    "        return int(float(s[:-1]) * 1000)\n",
    "    else:\n",
    "        s = re.sub(r'[,a-zA-Z]', \"\", s)\n",
    "        return int(s)"
   ]
  },
  {
   "cell_type": "code",
   "execution_count": 306,
   "id": "ca5fbbfd",
   "metadata": {},
   "outputs": [],
   "source": [
    "book2['num_followers'] = book2['num_followers'].apply(foll_clean) ## above function been assigned by using apply() method."
   ]
  },
  {
   "cell_type": "code",
   "execution_count": 307,
   "id": "32616246",
   "metadata": {},
   "outputs": [
    {
     "data": {
      "text/plain": [
       "title             object\n",
       "rating           float64\n",
       "name              object\n",
       "num_ratings       object\n",
       "num_reviews       object\n",
       "num_followers      int64\n",
       "synopsis          object\n",
       "genre             object\n",
       "dtype: object"
      ]
     },
     "execution_count": 307,
     "metadata": {},
     "output_type": "execute_result"
    }
   ],
   "source": [
    "book2.dtypes   "
   ]
  },
  {
   "cell_type": "code",
   "execution_count": 308,
   "id": "c397ab8f",
   "metadata": {},
   "outputs": [],
   "source": [
    "book2['num_ratings'] = pd.to_numeric(book2['num_ratings'])"
   ]
  },
  {
   "cell_type": "code",
   "execution_count": 309,
   "id": "9e7caedd",
   "metadata": {},
   "outputs": [],
   "source": [
    "book2['num_reviews'] = pd.to_numeric(book2['num_reviews'])"
   ]
  },
  {
   "cell_type": "code",
   "execution_count": 310,
   "id": "059a3e72",
   "metadata": {},
   "outputs": [
    {
     "data": {
      "text/plain": [
       "title             object\n",
       "rating           float64\n",
       "name              object\n",
       "num_ratings        int64\n",
       "num_reviews        int64\n",
       "num_followers      int64\n",
       "synopsis          object\n",
       "genre             object\n",
       "dtype: object"
      ]
     },
     "execution_count": 310,
     "metadata": {},
     "output_type": "execute_result"
    }
   ],
   "source": [
    "book2.dtypes ## So,here we can see that the datatypes of num_ratings, num_reviews. num_followers changed from object to integers."
   ]
  },
  {
   "cell_type": "code",
   "execution_count": 311,
   "id": "a32e8cf5",
   "metadata": {},
   "outputs": [
    {
     "data": {
      "text/html": [
       "<div>\n",
       "<style scoped>\n",
       "    .dataframe tbody tr th:only-of-type {\n",
       "        vertical-align: middle;\n",
       "    }\n",
       "\n",
       "    .dataframe tbody tr th {\n",
       "        vertical-align: top;\n",
       "    }\n",
       "\n",
       "    .dataframe thead th {\n",
       "        text-align: right;\n",
       "    }\n",
       "</style>\n",
       "<table border=\"1\" class=\"dataframe\">\n",
       "  <thead>\n",
       "    <tr style=\"text-align: right;\">\n",
       "      <th></th>\n",
       "      <th>title</th>\n",
       "      <th>rating</th>\n",
       "      <th>name</th>\n",
       "      <th>num_ratings</th>\n",
       "      <th>num_reviews</th>\n",
       "      <th>num_followers</th>\n",
       "      <th>synopsis</th>\n",
       "      <th>genre</th>\n",
       "    </tr>\n",
       "  </thead>\n",
       "  <tbody>\n",
       "    <tr>\n",
       "      <th>0</th>\n",
       "      <td>Sapiens: A Brief History of Humankind</td>\n",
       "      <td>4.39</td>\n",
       "      <td>Yuval Noah Harari</td>\n",
       "      <td>806229</td>\n",
       "      <td>46149</td>\n",
       "      <td>30000</td>\n",
       "      <td>100,000 years ago, at least six human species ...</td>\n",
       "      <td>history</td>\n",
       "    </tr>\n",
       "    <tr>\n",
       "      <th>1</th>\n",
       "      <td>Guns, Germs, and Steel: The Fates of Human Soc...</td>\n",
       "      <td>4.04</td>\n",
       "      <td>Jared Diamond</td>\n",
       "      <td>367056</td>\n",
       "      <td>12879</td>\n",
       "      <td>6538</td>\n",
       "      <td>\"Diamond has written a book of remarkable scop...</td>\n",
       "      <td>history</td>\n",
       "    </tr>\n",
       "    <tr>\n",
       "      <th>2</th>\n",
       "      <td>A People's History of the United States</td>\n",
       "      <td>4.07</td>\n",
       "      <td>Howard Zinn</td>\n",
       "      <td>224620</td>\n",
       "      <td>6509</td>\n",
       "      <td>2354</td>\n",
       "      <td>In the book, Zinn presented a different side o...</td>\n",
       "      <td>history</td>\n",
       "    </tr>\n",
       "    <tr>\n",
       "      <th>3</th>\n",
       "      <td>The Devil in the White City: Murder, Magic, an...</td>\n",
       "      <td>3.99</td>\n",
       "      <td>Erik Larson</td>\n",
       "      <td>613157</td>\n",
       "      <td>36644</td>\n",
       "      <td>64000</td>\n",
       "      <td>Author Erik Larson imbues the incredible event...</td>\n",
       "      <td>history</td>\n",
       "    </tr>\n",
       "    <tr>\n",
       "      <th>4</th>\n",
       "      <td>The Diary of a Young Girl</td>\n",
       "      <td>4.18</td>\n",
       "      <td>Anne Frank</td>\n",
       "      <td>3313033</td>\n",
       "      <td>35591</td>\n",
       "      <td>4621</td>\n",
       "      <td>Discovered in the attic in which she spent the...</td>\n",
       "      <td>history</td>\n",
       "    </tr>\n",
       "    <tr>\n",
       "      <th>...</th>\n",
       "      <td>...</td>\n",
       "      <td>...</td>\n",
       "      <td>...</td>\n",
       "      <td>...</td>\n",
       "      <td>...</td>\n",
       "      <td>...</td>\n",
       "      <td>...</td>\n",
       "      <td>...</td>\n",
       "    </tr>\n",
       "    <tr>\n",
       "      <th>1534</th>\n",
       "      <td>Hounded</td>\n",
       "      <td>4.09</td>\n",
       "      <td>Kevin Hearne</td>\n",
       "      <td>83827</td>\n",
       "      <td>7203</td>\n",
       "      <td>11905</td>\n",
       "      <td>Atticus O’Sullivan, last of the Druids, lives ...</td>\n",
       "      <td>fantasy</td>\n",
       "    </tr>\n",
       "    <tr>\n",
       "      <th>1535</th>\n",
       "      <td>Charlie and the Chocolate Factory</td>\n",
       "      <td>4.15</td>\n",
       "      <td>Roald Dahl</td>\n",
       "      <td>775001</td>\n",
       "      <td>14252</td>\n",
       "      <td>22897</td>\n",
       "      <td>Charlie Bucket's wonderful adventure begins wh...</td>\n",
       "      <td>fantasy</td>\n",
       "    </tr>\n",
       "    <tr>\n",
       "      <th>1536</th>\n",
       "      <td>Red Rising</td>\n",
       "      <td>4.25</td>\n",
       "      <td>Pierce Brown</td>\n",
       "      <td>310138</td>\n",
       "      <td>30388</td>\n",
       "      <td>30510</td>\n",
       "      <td>\"I live for the dream that my children will be...</td>\n",
       "      <td>fantasy</td>\n",
       "    </tr>\n",
       "    <tr>\n",
       "      <th>1537</th>\n",
       "      <td>Frostbite</td>\n",
       "      <td>4.26</td>\n",
       "      <td>Richelle Mead</td>\n",
       "      <td>337538</td>\n",
       "      <td>12435</td>\n",
       "      <td>66448</td>\n",
       "      <td>Rose loves Dimitri, Dimitri might love Tasha, ...</td>\n",
       "      <td>fantasy</td>\n",
       "    </tr>\n",
       "    <tr>\n",
       "      <th>1538</th>\n",
       "      <td>Radiance</td>\n",
       "      <td>4.03</td>\n",
       "      <td>Grace Draven</td>\n",
       "      <td>50102</td>\n",
       "      <td>5550</td>\n",
       "      <td>6090</td>\n",
       "      <td>The Prince of no value\\nBrishen Khaskem, princ...</td>\n",
       "      <td>fantasy</td>\n",
       "    </tr>\n",
       "  </tbody>\n",
       "</table>\n",
       "<p>1539 rows × 8 columns</p>\n",
       "</div>"
      ],
      "text/plain": [
       "                                                  title  rating  \\\n",
       "0                 Sapiens: A Brief History of Humankind    4.39   \n",
       "1     Guns, Germs, and Steel: The Fates of Human Soc...    4.04   \n",
       "2               A People's History of the United States    4.07   \n",
       "3     The Devil in the White City: Murder, Magic, an...    3.99   \n",
       "4                             The Diary of a Young Girl    4.18   \n",
       "...                                                 ...     ...   \n",
       "1534                                            Hounded    4.09   \n",
       "1535                  Charlie and the Chocolate Factory    4.15   \n",
       "1536                                         Red Rising    4.25   \n",
       "1537                                          Frostbite    4.26   \n",
       "1538                                           Radiance    4.03   \n",
       "\n",
       "                   name  num_ratings  num_reviews  num_followers  \\\n",
       "0     Yuval Noah Harari       806229        46149          30000   \n",
       "1         Jared Diamond       367056        12879           6538   \n",
       "2           Howard Zinn       224620         6509           2354   \n",
       "3           Erik Larson       613157        36644          64000   \n",
       "4            Anne Frank      3313033        35591           4621   \n",
       "...                 ...          ...          ...            ...   \n",
       "1534       Kevin Hearne        83827         7203          11905   \n",
       "1535         Roald Dahl       775001        14252          22897   \n",
       "1536       Pierce Brown       310138        30388          30510   \n",
       "1537      Richelle Mead       337538        12435          66448   \n",
       "1538       Grace Draven        50102         5550           6090   \n",
       "\n",
       "                                               synopsis    genre  \n",
       "0     100,000 years ago, at least six human species ...  history  \n",
       "1     \"Diamond has written a book of remarkable scop...  history  \n",
       "2     In the book, Zinn presented a different side o...  history  \n",
       "3     Author Erik Larson imbues the incredible event...  history  \n",
       "4     Discovered in the attic in which she spent the...  history  \n",
       "...                                                 ...      ...  \n",
       "1534  Atticus O’Sullivan, last of the Druids, lives ...  fantasy  \n",
       "1535  Charlie Bucket's wonderful adventure begins wh...  fantasy  \n",
       "1536  \"I live for the dream that my children will be...  fantasy  \n",
       "1537  Rose loves Dimitri, Dimitri might love Tasha, ...  fantasy  \n",
       "1538  The Prince of no value\\nBrishen Khaskem, princ...  fantasy  \n",
       "\n",
       "[1539 rows x 8 columns]"
      ]
     },
     "execution_count": 311,
     "metadata": {},
     "output_type": "execute_result"
    }
   ],
   "source": [
    "book2                                           ## Now the data is ready for visualization and model building"
   ]
  },
  {
   "cell_type": "markdown",
   "id": "76e3c523",
   "metadata": {},
   "source": [
    "## Data Visualization"
   ]
  },
  {
   "cell_type": "code",
   "execution_count": 312,
   "id": "14aa2955",
   "metadata": {},
   "outputs": [
    {
     "data": {
      "text/plain": [
       "Text(0, 0.5, 'Frequency')"
      ]
     },
     "execution_count": 312,
     "metadata": {},
     "output_type": "execute_result"
    },
    {
     "data": {
      "image/png": "[encoded data removed]",
      "text/plain": [
       "<Figure size 432x288 with 1 Axes>"
      ]
     },
     "metadata": {
      "needs_background": "light"
     },
     "output_type": "display_data"
    }
   ],
   "source": [
    "sns.kdeplot(book2['rating'], shade = True)\n",
    "plt.title('Distribution of rating \\n')         ## Here we distributed the ratings and we can see the range from 3.2 to 4.7 but the average rating is 4.0\n",
    "plt.xlabel('Rating')\n",
    "plt.ylabel('Frequency')"
   ]
  },
  {
   "cell_type": "code",
   "execution_count": 313,
   "id": "d83d7455",
   "metadata": {},
   "outputs": [
    {
     "data": {
      "text/plain": [
       "(array([ 0,  1,  2,  3,  4,  5,  6,  7,  8,  9, 10, 11, 12, 13, 14, 15, 16,\n",
       "        17, 18, 19]),\n",
       " [Text(0, 0, '3.94'),\n",
       "  Text(1, 0, '3.95'),\n",
       "  Text(2, 0, '3.97'),\n",
       "  Text(3, 0, '3.98'),\n",
       "  Text(4, 0, '3.99'),\n",
       "  Text(5, 0, '4.0'),\n",
       "  Text(6, 0, '4.01'),\n",
       "  Text(7, 0, '4.02'),\n",
       "  Text(8, 0, '4.03'),\n",
       "  Text(9, 0, '4.04'),\n",
       "  Text(10, 0, '4.05'),\n",
       "  Text(11, 0, '4.06'),\n",
       "  Text(12, 0, '4.08'),\n",
       "  Text(13, 0, '4.09'),\n",
       "  Text(14, 0, '4.11'),\n",
       "  Text(15, 0, '4.12'),\n",
       "  Text(16, 0, '4.13'),\n",
       "  Text(17, 0, '4.14'),\n",
       "  Text(18, 0, '4.15'),\n",
       "  Text(19, 0, '4.16')])"
      ]
     },
     "execution_count": 313,
     "metadata": {},
     "output_type": "execute_result"
    },
    {
     "data": {
      "image/png": "[encoded data removed]",
      "text/plain": [
       "<Figure size 432x288 with 1 Axes>"
      ]
     },
     "metadata": {
      "needs_background": "light"
     },
     "output_type": "display_data"
    }
   ],
   "source": [
    "sns.barplot(book2['rating'].value_counts().head(20).index, book2['rating'].value_counts().head(20))\n",
    "plt.title('Number of Books Each Rating Received\\n')\n",
    "plt.xlabel('Ratings')\n",
    "plt.ylabel('Counts')\n",
    "plt.xticks(rotation=35) ## Number of books and their respective ratings shows in the plot"
   ]
  },
  {
   "cell_type": "code",
   "execution_count": 314,
   "id": "7607f6ac",
   "metadata": {},
   "outputs": [
    {
     "data": {
      "text/plain": [
       "<AxesSubplot:xlabel='num_ratings', ylabel='title'>"
      ]
     },
     "execution_count": 314,
     "metadata": {},
     "output_type": "execute_result"
    },
    {
     "data": {
      "image/png": "[encoded data removed]",
      "text/plain": [
       "<Figure size 432x288 with 1 Axes>"
      ]
     },
     "metadata": {
      "needs_background": "light"
     },
     "output_type": "display_data"
    }
   ],
   "source": [
    "highrating_books = book2.nlargest(20, ['num_ratings']).set_index('title')['num_ratings']\n",
    "sns.barplot(highrating_books, highrating_books.index) ## So, here we can see that the popular book is harry potter according to num_ratings"
   ]
  },
  {
   "cell_type": "code",
   "execution_count": 315,
   "id": "3e6cc67c",
   "metadata": {},
   "outputs": [
    {
     "data": {
      "text/plain": [
       "<AxesSubplot:xlabel='num_reviews', ylabel='title'>"
      ]
     },
     "execution_count": 315,
     "metadata": {},
     "output_type": "execute_result"
    },
    {
     "data": {
      "image/png": "[encoded data removed]",
      "text/plain": [
       "<Figure size 432x288 with 1 Axes>"
      ]
     },
     "metadata": {
      "needs_background": "light"
     },
     "output_type": "display_data"
    }
   ],
   "source": [
    "highrise_reviews = book2.nlargest(20, ['num_reviews']) ## So, here the high reviews got for hunger games.\n",
    "sns.barplot(highrise_reviews['num_reviews'], highrise_reviews['title'])"
   ]
  },
  {
   "cell_type": "code",
   "execution_count": 316,
   "id": "fe7677cb",
   "metadata": {},
   "outputs": [
    {
     "data": {
      "text/plain": [
       "<AxesSubplot:xlabel='num_followers', ylabel='title'>"
      ]
     },
     "execution_count": 316,
     "metadata": {},
     "output_type": "execute_result"
    },
    {
     "data": {
      "image/png": "[encoded data removed]",
      "text/plain": [
       "<Figure size 432x288 with 1 Axes>"
      ]
     },
     "metadata": {
      "needs_background": "light"
     },
     "output_type": "display_data"
    }
   ],
   "source": [
    "high_followers = book2.nlargest(20, ['num_followers'])   ## Here in this plot we can see the 20 books which has high followers. \n",
    "sns.barplot(high_followers['num_followers'], high_followers['title'])"
   ]
  },
  {
   "cell_type": "code",
   "execution_count": 317,
   "id": "bd571dfa",
   "metadata": {},
   "outputs": [
    {
     "data": {
      "text/plain": [
       "Text(0.5, 0, 'Number of Publications')"
      ]
     },
     "execution_count": 317,
     "metadata": {},
     "output_type": "execute_result"
    },
    {
     "data": {
      "image/png": "[encoded data removed]",
      "text/plain": [
       "<Figure size 432x288 with 1 Axes>"
      ]
     },
     "metadata": {
      "needs_background": "light"
     },
     "output_type": "display_data"
    }
   ],
   "source": [
    "sns.barplot(book2['title'].value_counts()[:15], book2['title'].value_counts().index[:15])\n",
    "plt.title('Top Published Books')\n",
    "plt.xlabel('Number of Publications')  ## Here in this barplot you can see the 20 books which are top in publishing"
   ]
  },
  {
   "cell_type": "markdown",
   "id": "17c088b4",
   "metadata": {},
   "source": [
    "## Customers who frequently read the books of particular author. High read books of Author"
   ]
  },
  {
   "cell_type": "code",
   "execution_count": 318,
   "id": "528007d3",
   "metadata": {},
   "outputs": [
    {
     "data": {
      "text/plain": [
       "Text(0.5, 0, 'Total Ratings')"
      ]
     },
     "execution_count": 318,
     "metadata": {},
     "output_type": "execute_result"
    },
    {
     "data": {
      "image/png": "[encoded data removed]",
      "text/plain": [
       "<Figure size 972x2160 with 1 Axes>"
      ]
     },
     "metadata": {
      "needs_background": "light"
     },
     "output_type": "display_data"
    }
   ],
   "source": [
    "plt.figure(figsize=(13.5, 30))  \n",
    "authors = book2.nlargest(10, ['num_ratings']).set_index('name')\n",
    "sns.barplot(authors['num_ratings'], authors.index, ci = None, hue = authors['title'])\n",
    "plt.xlabel('Total Ratings')"
   ]
  },
  {
   "cell_type": "code",
   "execution_count": 319,
   "id": "1235b542",
   "metadata": {
    "scrolled": true
   },
   "outputs": [
    {
     "data": {
      "text/html": [
       "<div>\n",
       "<style scoped>\n",
       "    .dataframe tbody tr th:only-of-type {\n",
       "        vertical-align: middle;\n",
       "    }\n",
       "\n",
       "    .dataframe tbody tr th {\n",
       "        vertical-align: top;\n",
       "    }\n",
       "\n",
       "    .dataframe thead th {\n",
       "        text-align: right;\n",
       "    }\n",
       "</style>\n",
       "<table border=\"1\" class=\"dataframe\">\n",
       "  <thead>\n",
       "    <tr style=\"text-align: right;\">\n",
       "      <th></th>\n",
       "      <th>title</th>\n",
       "      <th>rating</th>\n",
       "      <th>name</th>\n",
       "      <th>num_ratings</th>\n",
       "      <th>num_reviews</th>\n",
       "      <th>num_followers</th>\n",
       "      <th>synopsis</th>\n",
       "      <th>genre</th>\n",
       "    </tr>\n",
       "  </thead>\n",
       "  <tbody>\n",
       "    <tr>\n",
       "      <th>0</th>\n",
       "      <td>Sapiens: A Brief History of Humankind</td>\n",
       "      <td>4.39</td>\n",
       "      <td>Yuval Noah Harari</td>\n",
       "      <td>806229</td>\n",
       "      <td>46149</td>\n",
       "      <td>30000</td>\n",
       "      <td>100,000 years ago, at least six human species ...</td>\n",
       "      <td>history</td>\n",
       "    </tr>\n",
       "    <tr>\n",
       "      <th>1</th>\n",
       "      <td>Guns, Germs, and Steel: The Fates of Human Soc...</td>\n",
       "      <td>4.04</td>\n",
       "      <td>Jared Diamond</td>\n",
       "      <td>367056</td>\n",
       "      <td>12879</td>\n",
       "      <td>6538</td>\n",
       "      <td>\"Diamond has written a book of remarkable scop...</td>\n",
       "      <td>history</td>\n",
       "    </tr>\n",
       "    <tr>\n",
       "      <th>2</th>\n",
       "      <td>A People's History of the United States</td>\n",
       "      <td>4.07</td>\n",
       "      <td>Howard Zinn</td>\n",
       "      <td>224620</td>\n",
       "      <td>6509</td>\n",
       "      <td>2354</td>\n",
       "      <td>In the book, Zinn presented a different side o...</td>\n",
       "      <td>history</td>\n",
       "    </tr>\n",
       "    <tr>\n",
       "      <th>3</th>\n",
       "      <td>The Devil in the White City: Murder, Magic, an...</td>\n",
       "      <td>3.99</td>\n",
       "      <td>Erik Larson</td>\n",
       "      <td>613157</td>\n",
       "      <td>36644</td>\n",
       "      <td>64000</td>\n",
       "      <td>Author Erik Larson imbues the incredible event...</td>\n",
       "      <td>history</td>\n",
       "    </tr>\n",
       "    <tr>\n",
       "      <th>4</th>\n",
       "      <td>The Diary of a Young Girl</td>\n",
       "      <td>4.18</td>\n",
       "      <td>Anne Frank</td>\n",
       "      <td>3313033</td>\n",
       "      <td>35591</td>\n",
       "      <td>4621</td>\n",
       "      <td>Discovered in the attic in which she spent the...</td>\n",
       "      <td>history</td>\n",
       "    </tr>\n",
       "    <tr>\n",
       "      <th>...</th>\n",
       "      <td>...</td>\n",
       "      <td>...</td>\n",
       "      <td>...</td>\n",
       "      <td>...</td>\n",
       "      <td>...</td>\n",
       "      <td>...</td>\n",
       "      <td>...</td>\n",
       "      <td>...</td>\n",
       "    </tr>\n",
       "    <tr>\n",
       "      <th>1534</th>\n",
       "      <td>Hounded</td>\n",
       "      <td>4.09</td>\n",
       "      <td>Kevin Hearne</td>\n",
       "      <td>83827</td>\n",
       "      <td>7203</td>\n",
       "      <td>11905</td>\n",
       "      <td>Atticus O’Sullivan, last of the Druids, lives ...</td>\n",
       "      <td>fantasy</td>\n",
       "    </tr>\n",
       "    <tr>\n",
       "      <th>1535</th>\n",
       "      <td>Charlie and the Chocolate Factory</td>\n",
       "      <td>4.15</td>\n",
       "      <td>Roald Dahl</td>\n",
       "      <td>775001</td>\n",
       "      <td>14252</td>\n",
       "      <td>22897</td>\n",
       "      <td>Charlie Bucket's wonderful adventure begins wh...</td>\n",
       "      <td>fantasy</td>\n",
       "    </tr>\n",
       "    <tr>\n",
       "      <th>1536</th>\n",
       "      <td>Red Rising</td>\n",
       "      <td>4.25</td>\n",
       "      <td>Pierce Brown</td>\n",
       "      <td>310138</td>\n",
       "      <td>30388</td>\n",
       "      <td>30510</td>\n",
       "      <td>\"I live for the dream that my children will be...</td>\n",
       "      <td>fantasy</td>\n",
       "    </tr>\n",
       "    <tr>\n",
       "      <th>1537</th>\n",
       "      <td>Frostbite</td>\n",
       "      <td>4.26</td>\n",
       "      <td>Richelle Mead</td>\n",
       "      <td>337538</td>\n",
       "      <td>12435</td>\n",
       "      <td>66448</td>\n",
       "      <td>Rose loves Dimitri, Dimitri might love Tasha, ...</td>\n",
       "      <td>fantasy</td>\n",
       "    </tr>\n",
       "    <tr>\n",
       "      <th>1538</th>\n",
       "      <td>Radiance</td>\n",
       "      <td>4.03</td>\n",
       "      <td>Grace Draven</td>\n",
       "      <td>50102</td>\n",
       "      <td>5550</td>\n",
       "      <td>6090</td>\n",
       "      <td>The Prince of no value\\nBrishen Khaskem, princ...</td>\n",
       "      <td>fantasy</td>\n",
       "    </tr>\n",
       "  </tbody>\n",
       "</table>\n",
       "<p>1539 rows × 8 columns</p>\n",
       "</div>"
      ],
      "text/plain": [
       "                                                  title  rating  \\\n",
       "0                 Sapiens: A Brief History of Humankind    4.39   \n",
       "1     Guns, Germs, and Steel: The Fates of Human Soc...    4.04   \n",
       "2               A People's History of the United States    4.07   \n",
       "3     The Devil in the White City: Murder, Magic, an...    3.99   \n",
       "4                             The Diary of a Young Girl    4.18   \n",
       "...                                                 ...     ...   \n",
       "1534                                            Hounded    4.09   \n",
       "1535                  Charlie and the Chocolate Factory    4.15   \n",
       "1536                                         Red Rising    4.25   \n",
       "1537                                          Frostbite    4.26   \n",
       "1538                                           Radiance    4.03   \n",
       "\n",
       "                   name  num_ratings  num_reviews  num_followers  \\\n",
       "0     Yuval Noah Harari       806229        46149          30000   \n",
       "1         Jared Diamond       367056        12879           6538   \n",
       "2           Howard Zinn       224620         6509           2354   \n",
       "3           Erik Larson       613157        36644          64000   \n",
       "4            Anne Frank      3313033        35591           4621   \n",
       "...                 ...          ...          ...            ...   \n",
       "1534       Kevin Hearne        83827         7203          11905   \n",
       "1535         Roald Dahl       775001        14252          22897   \n",
       "1536       Pierce Brown       310138        30388          30510   \n",
       "1537      Richelle Mead       337538        12435          66448   \n",
       "1538       Grace Draven        50102         5550           6090   \n",
       "\n",
       "                                               synopsis    genre  \n",
       "0     100,000 years ago, at least six human species ...  history  \n",
       "1     \"Diamond has written a book of remarkable scop...  history  \n",
       "2     In the book, Zinn presented a different side o...  history  \n",
       "3     Author Erik Larson imbues the incredible event...  history  \n",
       "4     Discovered in the attic in which she spent the...  history  \n",
       "...                                                 ...      ...  \n",
       "1534  Atticus O’Sullivan, last of the Druids, lives ...  fantasy  \n",
       "1535  Charlie Bucket's wonderful adventure begins wh...  fantasy  \n",
       "1536  \"I live for the dream that my children will be...  fantasy  \n",
       "1537  Rose loves Dimitri, Dimitri might love Tasha, ...  fantasy  \n",
       "1538  The Prince of no value\\nBrishen Khaskem, princ...  fantasy  \n",
       "\n",
       "[1539 rows x 8 columns]"
      ]
     },
     "execution_count": 319,
     "metadata": {},
     "output_type": "execute_result"
    }
   ],
   "source": [
    "book2"
   ]
  },
  {
   "cell_type": "markdown",
   "id": "375dfccc",
   "metadata": {},
   "source": [
    "## Genre Prediction using Synopsis"
   ]
  },
  {
   "cell_type": "code",
   "execution_count": 320,
   "id": "39eb50df",
   "metadata": {
    "scrolled": true
   },
   "outputs": [
    {
     "data": {
      "text/html": [
       "<div>\n",
       "<style scoped>\n",
       "    .dataframe tbody tr th:only-of-type {\n",
       "        vertical-align: middle;\n",
       "    }\n",
       "\n",
       "    .dataframe tbody tr th {\n",
       "        vertical-align: top;\n",
       "    }\n",
       "\n",
       "    .dataframe thead th {\n",
       "        text-align: right;\n",
       "    }\n",
       "</style>\n",
       "<table border=\"1\" class=\"dataframe\">\n",
       "  <thead>\n",
       "    <tr style=\"text-align: right;\">\n",
       "      <th></th>\n",
       "      <th>title</th>\n",
       "      <th>rating</th>\n",
       "      <th>name</th>\n",
       "      <th>num_ratings</th>\n",
       "      <th>num_reviews</th>\n",
       "      <th>num_followers</th>\n",
       "      <th>synopsis</th>\n",
       "    </tr>\n",
       "    <tr>\n",
       "      <th>genre</th>\n",
       "      <th></th>\n",
       "      <th></th>\n",
       "      <th></th>\n",
       "      <th></th>\n",
       "      <th></th>\n",
       "      <th></th>\n",
       "      <th></th>\n",
       "    </tr>\n",
       "  </thead>\n",
       "  <tbody>\n",
       "    <tr>\n",
       "      <th>fantasy</th>\n",
       "      <td>348</td>\n",
       "      <td>348</td>\n",
       "      <td>348</td>\n",
       "      <td>348</td>\n",
       "      <td>348</td>\n",
       "      <td>348</td>\n",
       "      <td>348</td>\n",
       "    </tr>\n",
       "    <tr>\n",
       "      <th>history</th>\n",
       "      <td>99</td>\n",
       "      <td>99</td>\n",
       "      <td>99</td>\n",
       "      <td>99</td>\n",
       "      <td>99</td>\n",
       "      <td>99</td>\n",
       "      <td>99</td>\n",
       "    </tr>\n",
       "    <tr>\n",
       "      <th>horror</th>\n",
       "      <td>100</td>\n",
       "      <td>100</td>\n",
       "      <td>100</td>\n",
       "      <td>100</td>\n",
       "      <td>100</td>\n",
       "      <td>100</td>\n",
       "      <td>100</td>\n",
       "    </tr>\n",
       "    <tr>\n",
       "      <th>psychology</th>\n",
       "      <td>99</td>\n",
       "      <td>99</td>\n",
       "      <td>99</td>\n",
       "      <td>99</td>\n",
       "      <td>99</td>\n",
       "      <td>99</td>\n",
       "      <td>99</td>\n",
       "    </tr>\n",
       "    <tr>\n",
       "      <th>romance</th>\n",
       "      <td>111</td>\n",
       "      <td>111</td>\n",
       "      <td>111</td>\n",
       "      <td>111</td>\n",
       "      <td>111</td>\n",
       "      <td>111</td>\n",
       "      <td>111</td>\n",
       "    </tr>\n",
       "    <tr>\n",
       "      <th>science</th>\n",
       "      <td>79</td>\n",
       "      <td>79</td>\n",
       "      <td>79</td>\n",
       "      <td>79</td>\n",
       "      <td>79</td>\n",
       "      <td>79</td>\n",
       "      <td>79</td>\n",
       "    </tr>\n",
       "    <tr>\n",
       "      <th>science_fiction</th>\n",
       "      <td>45</td>\n",
       "      <td>45</td>\n",
       "      <td>45</td>\n",
       "      <td>45</td>\n",
       "      <td>45</td>\n",
       "      <td>45</td>\n",
       "      <td>45</td>\n",
       "    </tr>\n",
       "    <tr>\n",
       "      <th>sports</th>\n",
       "      <td>79</td>\n",
       "      <td>79</td>\n",
       "      <td>79</td>\n",
       "      <td>79</td>\n",
       "      <td>79</td>\n",
       "      <td>79</td>\n",
       "      <td>79</td>\n",
       "    </tr>\n",
       "    <tr>\n",
       "      <th>thriller</th>\n",
       "      <td>481</td>\n",
       "      <td>481</td>\n",
       "      <td>481</td>\n",
       "      <td>481</td>\n",
       "      <td>481</td>\n",
       "      <td>481</td>\n",
       "      <td>481</td>\n",
       "    </tr>\n",
       "    <tr>\n",
       "      <th>travel</th>\n",
       "      <td>98</td>\n",
       "      <td>98</td>\n",
       "      <td>98</td>\n",
       "      <td>98</td>\n",
       "      <td>98</td>\n",
       "      <td>98</td>\n",
       "      <td>98</td>\n",
       "    </tr>\n",
       "  </tbody>\n",
       "</table>\n",
       "</div>"
      ],
      "text/plain": [
       "                 title  rating  name  num_ratings  num_reviews  num_followers  \\\n",
       "genre                                                                           \n",
       "fantasy            348     348   348          348          348            348   \n",
       "history             99      99    99           99           99             99   \n",
       "horror             100     100   100          100          100            100   \n",
       "psychology          99      99    99           99           99             99   \n",
       "romance            111     111   111          111          111            111   \n",
       "science             79      79    79           79           79             79   \n",
       "science_fiction     45      45    45           45           45             45   \n",
       "sports              79      79    79           79           79             79   \n",
       "thriller           481     481   481          481          481            481   \n",
       "travel              98      98    98           98           98             98   \n",
       "\n",
       "                 synopsis  \n",
       "genre                      \n",
       "fantasy               348  \n",
       "history                99  \n",
       "horror                100  \n",
       "psychology             99  \n",
       "romance               111  \n",
       "science                79  \n",
       "science_fiction        45  \n",
       "sports                 79  \n",
       "thriller              481  \n",
       "travel                 98  "
      ]
     },
     "execution_count": 320,
     "metadata": {},
     "output_type": "execute_result"
    }
   ],
   "source": [
    "book2.groupby('genre').count() ## Here we have grouped all rows of genre."
   ]
  },
  {
   "cell_type": "code",
   "execution_count": 321,
   "id": "5edcf417",
   "metadata": {},
   "outputs": [
    {
     "data": {
      "text/plain": [
       "0       100,000 years ago, at least six human species ...\n",
       "1       \"Diamond has written a book of remarkable scop...\n",
       "2       In the book, Zinn presented a different side o...\n",
       "3       Author Erik Larson imbues the incredible event...\n",
       "4       Discovered in the attic in which she spent the...\n",
       "                              ...                        \n",
       "1534    Atticus O’Sullivan, last of the Druids, lives ...\n",
       "1535    Charlie Bucket's wonderful adventure begins wh...\n",
       "1536    \"I live for the dream that my children will be...\n",
       "1537    Rose loves Dimitri, Dimitri might love Tasha, ...\n",
       "1538    The Prince of no value\\nBrishen Khaskem, princ...\n",
       "Name: synopsis, Length: 1539, dtype: object"
      ]
     },
     "execution_count": 321,
     "metadata": {},
     "output_type": "execute_result"
    }
   ],
   "source": [
    "book2['synopsis']"
   ]
  },
  {
   "cell_type": "markdown",
   "id": "2c1a7391",
   "metadata": {},
   "source": [
    "## Data Preprocessing \n",
    "In which includes cleaning of the synopsis column and ready for prediction. \n",
    "1.First filtered an dremoved everything else and converting into lowercase letters\n",
    "2.backslash, alphabets, to remove whitespaces andconverting the text into lower cases. \n",
    "3.Performed stopwords removal like the, he, her, etc. we can see all the stopwords available in english. \n",
    "4.Lemmetization is performed \n",
    "5.stemming is performed "
   ]
  },
  {
   "cell_type": "markdown",
   "id": "c5eef628",
   "metadata": {},
   "source": [
    "## Filtering out the synopsis"
   ]
  },
  {
   "cell_type": "code",
   "execution_count": 322,
   "id": "449ad518",
   "metadata": {},
   "outputs": [],
   "source": [
    "def clean(text): ## created funstion which can clean the text\n",
    "    # Inorder to remove backslash-apostrophe \n",
    "    text = re.sub(\"\\'\", \"\", text) \n",
    "    # Inorder to remove everything except alphabets \n",
    "    text = re.sub(\"[^a-zA-Z]\",\" \",text) \n",
    "    # Inorder to remove whitespaces \n",
    "    text = ' '.join(text.split()) \n",
    "    # converting text to lowercase \n",
    "    text = text.lower() \n",
    "    \n",
    "    return text\n",
    "\n",
    "book2.loc[:,'synopsis']=book2.loc[:,'synopsis'].apply(lambda x: clean(x))"
   ]
  },
  {
   "cell_type": "code",
   "execution_count": 323,
   "id": "2289a358",
   "metadata": {},
   "outputs": [
    {
     "data": {
      "text/plain": [
       "0       years ago at least six human species inhabited...\n",
       "1       diamond has written a book of remarkable scope...\n",
       "2       in the book zinn presented a different side of...\n",
       "3       author erik larson imbues the incredible event...\n",
       "4       discovered in the attic in which she spent the...\n",
       "                              ...                        \n",
       "1534    atticus o sullivan last of the druids lives pe...\n",
       "1535    charlie buckets wonderful adventure begins whe...\n",
       "1536    i live for the dream that my children will be ...\n",
       "1537    rose loves dimitri dimitri might love tasha an...\n",
       "1538    the prince of no value brishen khaskem prince ...\n",
       "Name: synopsis, Length: 1539, dtype: object"
      ]
     },
     "execution_count": 323,
     "metadata": {},
     "output_type": "execute_result"
    }
   ],
   "source": [
    "book2['synopsis'] ## Synopsis after text cleaning "
   ]
  },
  {
   "cell_type": "markdown",
   "id": "59fd53a9",
   "metadata": {},
   "source": [
    "## Performed stop word removals from synopsis\n",
    "that is common words like the, he, her. "
   ]
  },
  {
   "cell_type": "code",
   "execution_count": 324,
   "id": "f1ead200",
   "metadata": {},
   "outputs": [
    {
     "name": "stderr",
     "output_type": "stream",
     "text": [
      "[nltk_data] Downloading package stopwords to\n",
      "[nltk_data]     C:\\Users\\91998\\AppData\\Roaming\\nltk_data...\n",
      "[nltk_data]   Package stopwords is already up-to-date!\n"
     ]
    }
   ],
   "source": [
    "nltk.download('stopwords')\n",
    "\n",
    "from nltk.corpus import stopwords\n",
    "stop_words = set(stopwords.words('english'))\n",
    "\n",
    "#  Creating a function inorder to remove stopwords\n",
    "def removestopwords(text):\n",
    "    no_stopword_text = [w for w in text.split() if not w in stop_words]\n",
    "    return ' '.join(no_stopword_text)\n",
    "\n",
    "book2['synopsis'] = book2['synopsis'].apply(lambda x: removestopwords(x))"
   ]
  },
  {
   "cell_type": "code",
   "execution_count": 325,
   "id": "5f2c1870",
   "metadata": {},
   "outputs": [
    {
     "data": {
      "text/plain": [
       "0       years ago least six human species inhabited ea...\n",
       "1       diamond written book remarkable scope one impo...\n",
       "2       book zinn presented different side history tra...\n",
       "3       author erik larson imbues incredible events su...\n",
       "4       discovered attic spent last years life anne fr...\n",
       "                              ...                        \n",
       "1534    atticus sullivan last druids lives peacefully ...\n",
       "1535    charlie buckets wonderful adventure begins fin...\n",
       "1536    live dream children born free says like land f...\n",
       "1537    rose loves dimitri dimitri might love tasha ma...\n",
       "1538    prince value brishen khaskem prince kai lived ...\n",
       "Name: synopsis, Length: 1539, dtype: object"
      ]
     },
     "execution_count": 325,
     "metadata": {},
     "output_type": "execute_result"
    }
   ],
   "source": [
    "book2['synopsis'] ## Synopsis after removing the stop words."
   ]
  },
  {
   "cell_type": "markdown",
   "id": "043b9287",
   "metadata": {},
   "source": [
    "## Lemmetization on Synopsis\n",
    "\n",
    "We imported the module which performs lemmetization on words, where it groups same word into one which makes the analysis stronger. Lemmetization which extracts the base word nltk privides wordnet lemmatizer that makes use of Wornet database"
   ]
  },
  {
   "cell_type": "code",
   "execution_count": 326,
   "id": "de8a3c7d",
   "metadata": {},
   "outputs": [
    {
     "name": "stderr",
     "output_type": "stream",
     "text": [
      "[nltk_data] Downloading package wordnet to\n",
      "[nltk_data]     C:\\Users\\91998\\AppData\\Roaming\\nltk_data...\n",
      "[nltk_data]   Package wordnet is already up-to-date!\n"
     ]
    }
   ],
   "source": [
    "nltk.download('wordnet')\n",
    "\n",
    "lemma = WordNetLemmatizer()\n",
    "\n",
    "def lematizing(sentence):\n",
    "    stemSentence = \"\"\n",
    "    for word in sentence.split():\n",
    "        stem = lemma.lemmatize(word)\n",
    "        stemSentence += stem\n",
    "        stemSentence += \" \"\n",
    "    stemSentence = stemSentence.strip()\n",
    "    return stemSentence\n",
    "\n",
    "\n",
    "book2['synopsis'] = book2['synopsis'].apply(lambda x: lematizing(x))"
   ]
  },
  {
   "cell_type": "code",
   "execution_count": 327,
   "id": "4aae1d8a",
   "metadata": {},
   "outputs": [
    {
     "data": {
      "text/plain": [
       "0       year ago least six human specie inhabited eart...\n",
       "1       diamond written book remarkable scope one impo...\n",
       "2       book zinn presented different side history tra...\n",
       "3       author erik larson imbues incredible event sur...\n",
       "4       discovered attic spent last year life anne fra...\n",
       "                              ...                        \n",
       "1534    atticus sullivan last druid life peacefully ar...\n",
       "1535    charlie bucket wonderful adventure begin find ...\n",
       "1536    live dream child born free say like land fathe...\n",
       "1537    rose love dimitri dimitri might love tasha mas...\n",
       "1538    prince value brishen khaskem prince kai lived ...\n",
       "Name: synopsis, Length: 1539, dtype: object"
      ]
     },
     "execution_count": 327,
     "metadata": {},
     "output_type": "execute_result"
    }
   ],
   "source": [
    "book2['synopsis'] ## synopsis after performing lemmetization"
   ]
  },
  {
   "cell_type": "markdown",
   "id": "75e18d77",
   "metadata": {},
   "source": [
    "## Stemming on synopsis\n",
    "In text extracting root word and remov ethe rest. commenting suffix and prefix we generate stems. Here we use with posterstemmer which reduces the words."
   ]
  },
  {
   "cell_type": "code",
   "execution_count": 328,
   "id": "2ab76168",
   "metadata": {},
   "outputs": [],
   "source": [
    "stemmer = PorterStemmer()\n",
    "\n",
    "def stemming(sentence):\n",
    "    stemSentence = \"\"\n",
    "    for word in sentence.split():\n",
    "        stem = stemmer.stem(word)\n",
    "        stemSentence += stem\n",
    "        stemSentence += \" \"\n",
    "    stemSentence = stemSentence.strip()\n",
    "    return stemSentence\n",
    "\n",
    "book2['synopsis'] = book2['synopsis'].apply(lambda x: stemming(x))"
   ]
  },
  {
   "cell_type": "code",
   "execution_count": 330,
   "id": "117be6e4",
   "metadata": {},
   "outputs": [
    {
     "data": {
      "text/plain": [
       "0       year ago least six human speci inhabit earth t...\n",
       "1       diamond written book remark scope one import r...\n",
       "2       book zinn present differ side histori tradit f...\n",
       "3       author erik larson imbu incred event surround ...\n",
       "4       discov attic spent last year life ann frank re...\n",
       "                              ...                        \n",
       "1534    atticu sullivan last druid life peac arizona r...\n",
       "1535    charli bucket wonder adventur begin find one m...\n",
       "1536    live dream child born free say like land fathe...\n",
       "1537    rose love dimitri dimitri might love tasha mas...\n",
       "1538    princ valu brishen khaskem princ kai live cont...\n",
       "Name: synopsis, Length: 1539, dtype: object"
      ]
     },
     "execution_count": 330,
     "metadata": {},
     "output_type": "execute_result"
    }
   ],
   "source": [
    "book2['synopsis'] ## synopsis after performing the stemming"
   ]
  },
  {
   "cell_type": "markdown",
   "id": "b95fd451",
   "metadata": {},
   "source": [
    "Here by using the label encoder gave unique number to each genre from 0-9 which converts books to features"
   ]
  },
  {
   "cell_type": "code",
   "execution_count": 331,
   "id": "f4cb2ca0",
   "metadata": {},
   "outputs": [
    {
     "data": {
      "text/plain": [
       "array(['fantasy', 'history', 'horror', 'psychology', 'romance', 'science',\n",
       "       'science_fiction', 'sports', 'thriller', 'travel'], dtype=object)"
      ]
     },
     "execution_count": 331,
     "metadata": {},
     "output_type": "execute_result"
    }
   ],
   "source": [
    "LE = LabelEncoder()\n",
    "y=LE.fit_transform(book2['genre'])\n",
    "LE.inverse_transform([0,1,2,3,4,5,6,7,8,9])"
   ]
  },
  {
   "cell_type": "markdown",
   "id": "e2511bb4",
   "metadata": {},
   "source": [
    "## Fitting the models \n",
    "\n",
    "80-20% split was performed to the dataset"
   ]
  },
  {
   "cell_type": "code",
   "execution_count": 268,
   "id": "ef128721",
   "metadata": {},
   "outputs": [],
   "source": [
    "xtrain, xval, ytrain, yval = train_test_split(book2['synopsis'], y, test_size=0.2, random_state=550) "
   ]
  },
  {
   "cell_type": "markdown",
   "id": "aad800fc",
   "metadata": {},
   "source": [
    "Here tf-idf performed on synopsis for both train anad test data.\n",
    "\n",
    "tf-idf is used to assign a value according to the importance of the document in corpus which removes natural occuring words in English.\n",
    "\n",
    "tf(term frequency) = number of times appear in a document / total no of times \n",
    "\n",
    "idf(inverse-document frequency) = log_e(total no of documents/ no of doc with terms in it."
   ]
  },
  {
   "cell_type": "code",
   "execution_count": 269,
   "id": "9e300aa8",
   "metadata": {},
   "outputs": [],
   "source": [
    "tfidf_vectorizer = TfidfVectorizer(max_df=0.8, max_features=10000)\n",
    "\n",
    "xtrain_tfidf = tfidf_vectorizer.fit_transform(xtrain.values.astype('U'))\n",
    "\n",
    "xval_tfidf = tfidf_vectorizer.transform(xval.values.astype('U'))"
   ]
  },
  {
   "cell_type": "markdown",
   "id": "b0201412",
   "metadata": {},
   "source": [
    "## Creating Logistic Regression Model"
   ]
  },
  {
   "cell_type": "code",
   "execution_count": 270,
   "id": "5413244a",
   "metadata": {},
   "outputs": [
    {
     "name": "stdout",
     "output_type": "stream",
     "text": [
      "Accuracy Score : 0.6136363636363636\n",
      "Report : \n",
      "              precision    recall  f1-score   support\n",
      "\n",
      "           0       0.77      0.88      0.82        72\n",
      "           1       0.89      0.50      0.64        16\n",
      "           2       0.00      0.00      0.00        21\n",
      "           3       1.00      0.36      0.53        28\n",
      "           4       0.00      0.00      0.00        22\n",
      "           5       1.00      0.42      0.59        12\n",
      "           6       0.00      0.00      0.00         6\n",
      "           7       1.00      0.06      0.11        17\n",
      "           8       0.50      0.99      0.66        99\n",
      "           9       1.00      0.27      0.42        15\n",
      "\n",
      "    accuracy                           0.61       308\n",
      "   macro avg       0.62      0.35      0.38       308\n",
      "weighted avg       0.62      0.61      0.53       308\n",
      "\n",
      "Executed in  0:00:00.395909\n"
     ]
    }
   ],
   "source": [
    "start = datetime.now()\n",
    "\n",
    "lr = LogisticRegression()\n",
    "clf = OneVsRestClassifier(lr)\n",
    "\n",
    "clf.fit(xtrain_tfidf, ytrain)          # fitting model on train data.\n",
    "\n",
    "y_pred_lr = clf.predict(xval_tfidf)    ## making predictions for validation set.\n",
    "\n",
    "print( 'Accuracy Score :',accuracy_score(yval,y_pred_lr)) #Calculating the accuracy score of the Logistic Regression\n",
    "\n",
    "print ('Report : ')                            # classification report.\n",
    "print(classification_report(yval,y_pred_lr))\n",
    "\n",
    "print(\"Executed in \",datetime.now()-start)"
   ]
  },
  {
   "cell_type": "markdown",
   "id": "c845b4ce",
   "metadata": {},
   "source": [
    "## Using support vector machine ( kernel = linear)"
   ]
  },
  {
   "cell_type": "code",
   "execution_count": 271,
   "id": "edca2422",
   "metadata": {},
   "outputs": [
    {
     "name": "stdout",
     "output_type": "stream",
     "text": [
      "Accuracy Score : 0.7662337662337663\n",
      "Report : \n",
      "              precision    recall  f1-score   support\n",
      "\n",
      "           0       0.87      0.92      0.89        72\n",
      "           1       0.88      0.88      0.88        16\n",
      "           2       0.67      0.10      0.17        21\n",
      "           3       0.95      0.68      0.79        28\n",
      "           4       0.71      0.23      0.34        22\n",
      "           5       0.80      0.67      0.73        12\n",
      "           6       1.00      0.17      0.29         6\n",
      "           7       0.92      0.65      0.76        17\n",
      "           8       0.65      0.99      0.79        99\n",
      "           9       0.92      0.80      0.86        15\n",
      "\n",
      "    accuracy                           0.77       308\n",
      "   macro avg       0.84      0.61      0.65       308\n",
      "weighted avg       0.79      0.77      0.73       308\n",
      "\n",
      "Executed in  0:00:02.361148\n"
     ]
    }
   ],
   "source": [
    "start=datetime.now()\n",
    "\n",
    "svc = svm.SVC(kernel='linear').fit(xtrain_tfidf,ytrain)\n",
    "\n",
    "svpred=svc.predict(xval_tfidf)\n",
    "\n",
    "print( 'Accuracy Score :',accuracy_score(yval,svpred) )\n",
    "print ('Report : ')\n",
    "print(classification_report(yval,svpred))\n",
    "\n",
    "print(\"Executed in \",datetime.now()-start)"
   ]
  },
  {
   "cell_type": "markdown",
   "id": "cf59eae9",
   "metadata": {},
   "source": [
    "## Fitting model using 85 -15 % split"
   ]
  },
  {
   "cell_type": "code",
   "execution_count": 272,
   "id": "db67f019",
   "metadata": {},
   "outputs": [],
   "source": [
    "xtrain, xval, ytrain, yval = train_test_split(book2['synopsis'], y, test_size=0.15, random_state=246) "
   ]
  },
  {
   "cell_type": "code",
   "execution_count": 273,
   "id": "c62bd653",
   "metadata": {},
   "outputs": [],
   "source": [
    "tfidf_vectorizer = TfidfVectorizer(max_df=0.8, max_features=10000) ## performing tf-idf on train and test data \n",
    "\n",
    "xtrain_tfidf = tfidf_vectorizer.fit_transform(xtrain.values.astype('U'))\n",
    "\n",
    "xval_tfidf = tfidf_vectorizer.transform(xval.values.astype('U'))"
   ]
  },
  {
   "cell_type": "markdown",
   "id": "f2d4ba40",
   "metadata": {},
   "source": [
    "Using Logistic Regression "
   ]
  },
  {
   "cell_type": "code",
   "execution_count": 274,
   "id": "92ea715a",
   "metadata": {},
   "outputs": [
    {
     "name": "stdout",
     "output_type": "stream",
     "text": [
      "Accuracy Score : 0.6363636363636364\n",
      "Report : \n",
      "              precision    recall  f1-score   support\n",
      "\n",
      "           0       0.72      0.91      0.81        57\n",
      "           1       1.00      0.29      0.44        14\n",
      "           2       0.00      0.00      0.00        17\n",
      "           3       1.00      0.69      0.82        13\n",
      "           4       1.00      0.07      0.13        14\n",
      "           5       0.83      0.71      0.77         7\n",
      "           6       0.00      0.00      0.00        12\n",
      "           7       1.00      0.07      0.13        14\n",
      "           8       0.53      0.97      0.68        72\n",
      "           9       1.00      0.45      0.62        11\n",
      "\n",
      "    accuracy                           0.64       231\n",
      "   macro avg       0.71      0.42      0.44       231\n",
      "weighted avg       0.65      0.64      0.55       231\n",
      "\n",
      "Executed in  0:00:00.374997\n"
     ]
    }
   ],
   "source": [
    "start = datetime.now()\n",
    "lr = LogisticRegression()\n",
    "clf = OneVsRestClassifier(lr)\n",
    "\n",
    "# fit model on train data.\n",
    "clf.fit(xtrain_tfidf, ytrain)\n",
    "\n",
    "# make predictions for validation set.\n",
    "y_pred_lr = clf.predict(xval_tfidf)\n",
    "\n",
    "#Calculating the accuracy.\n",
    "print( 'Accuracy Score :',accuracy_score(yval,y_pred_lr) )\n",
    "\n",
    "#Printing the classification report.\n",
    "print ('Report : ')\n",
    "print(classification_report(yval,y_pred_lr))\n",
    "\n",
    "print(\"Executed in \",datetime.now()-start)"
   ]
  },
  {
   "cell_type": "markdown",
   "id": "d2dc01f5",
   "metadata": {},
   "source": [
    "Using svm kernel = linear"
   ]
  },
  {
   "cell_type": "code",
   "execution_count": 275,
   "id": "7e08c8bd",
   "metadata": {},
   "outputs": [
    {
     "name": "stdout",
     "output_type": "stream",
     "text": [
      "Accuracy Score : 0.7359307359307359\n",
      "Report : \n",
      "              precision    recall  f1-score   support\n",
      "\n",
      "           0       0.72      0.95      0.82        57\n",
      "           1       0.92      0.79      0.85        14\n",
      "           2       0.00      0.00      0.00        17\n",
      "           3       1.00      1.00      1.00        13\n",
      "           4       0.67      0.29      0.40        14\n",
      "           5       0.78      1.00      0.88         7\n",
      "           6       0.00      0.00      0.00        12\n",
      "           7       0.89      0.57      0.70        14\n",
      "           8       0.67      0.92      0.77        72\n",
      "           9       1.00      0.64      0.78        11\n",
      "\n",
      "    accuracy                           0.74       231\n",
      "   macro avg       0.66      0.61      0.62       231\n",
      "weighted avg       0.66      0.74      0.68       231\n",
      "\n",
      "Executed in  0:00:02.574122\n"
     ]
    }
   ],
   "source": [
    "start=datetime.now()\n",
    "\n",
    "from sklearn import svm\n",
    "\n",
    "svc = svm.SVC(kernel='linear').fit(xtrain_tfidf,ytrain)\n",
    "\n",
    "svpred=svc.predict(xval_tfidf)\n",
    "\n",
    "\n",
    "print( 'Accuracy Score :',accuracy_score(yval,svpred) )\n",
    "print ('Report : ')\n",
    "print(classification_report(yval,svpred))\n",
    "\n",
    "print(\"Executed in \",datetime.now()-start)"
   ]
  },
  {
   "cell_type": "markdown",
   "id": "dc44d894",
   "metadata": {},
   "source": [
    "Thus, the highest accuracy obtained during 80-20 % split using svm with linear as a kernel function.\n",
    "\n",
    "The highest accuracy is 76.6 % \n",
    "\n",
    "Build inference function inorder to predict the genres by using book features. \n",
    "Book synopsis as a raw input and displays actual and predicted geners of book"
   ]
  },
  {
   "cell_type": "code",
   "execution_count": 276,
   "id": "9d384440",
   "metadata": {},
   "outputs": [
    {
     "name": "stdout",
     "output_type": "stream",
     "text": [
      "\n",
      "Book:  Fantastic Beasts and Where to Find Them: The Original Screenplay\n",
      "\n",
      "Predicted genre:  fantasy\n",
      "\n",
      "Actual genre:  fantasy \n",
      "\n",
      "-------------------------------\n",
      "\n",
      "Book:  Maskerade\n",
      "\n",
      "Predicted genre:  fantasy\n",
      "\n",
      "Actual genre:  fantasy \n",
      "\n",
      "-------------------------------\n",
      "\n",
      "Book:  The Drawing of the Three\n",
      "\n",
      "Predicted genre:  fantasy\n",
      "\n",
      "Actual genre:  horror \n",
      "\n",
      "-------------------------------\n",
      "\n",
      "Book:  Astrophysics for People in a Hurry\n",
      "\n",
      "Predicted genre:  science\n",
      "\n",
      "Actual genre:  science \n",
      "\n",
      "-------------------------------\n",
      "\n",
      "Book:  Plum Island\n",
      "\n",
      "Predicted genre:  thriller\n",
      "\n",
      "Actual genre:  thriller \n",
      "\n",
      "-------------------------------\n",
      "\n",
      "Book:  Pop Goes the Weasel\n",
      "\n",
      "Predicted genre:  thriller\n",
      "\n",
      "Actual genre:  thriller \n",
      "\n",
      "-------------------------------\n",
      "\n",
      "Book:  Never Let You Go\n",
      "\n",
      "Predicted genre:  thriller\n",
      "\n",
      "Actual genre:  thriller \n",
      "\n",
      "-------------------------------\n",
      "\n",
      "Book:  The Children of Húrin\n",
      "\n",
      "Predicted genre:  fantasy\n",
      "\n",
      "Actual genre:  fantasy \n",
      "\n",
      "-------------------------------\n",
      "\n",
      "Book:  1493: Uncovering the New World Columbus Created\n",
      "\n",
      "Predicted genre:  history\n",
      "\n",
      "Actual genre:  history \n",
      "\n",
      "-------------------------------\n",
      "\n",
      "Book:  The Devil's Star\n",
      "\n",
      "Predicted genre:  thriller\n",
      "\n",
      "Actual genre:  thriller \n",
      "\n",
      "-------------------------------\n",
      "\n",
      "Book:  Vanish\n",
      "\n",
      "Predicted genre:  thriller\n",
      "\n",
      "Actual genre:  thriller \n",
      "\n",
      "-------------------------------\n",
      "\n",
      "Book:  I Am Watching You\n",
      "\n",
      "Predicted genre:  fantasy\n",
      "\n",
      "Actual genre:  thriller \n",
      "\n",
      "-------------------------------\n",
      "\n",
      "Book:  Bared to You\n",
      "\n",
      "Predicted genre:  thriller\n",
      "\n",
      "Actual genre:  romance \n",
      "\n",
      "-------------------------------\n",
      "\n",
      "Book:  The Stranger\n",
      "\n",
      "Predicted genre:  thriller\n",
      "\n",
      "Actual genre:  thriller \n",
      "\n",
      "-------------------------------\n",
      "\n",
      "Book:  Thinner\n",
      "\n",
      "Predicted genre:  thriller\n",
      "\n",
      "Actual genre:  thriller \n",
      "\n",
      "-------------------------------\n",
      "\n",
      "Book:  The Kill Artist\n",
      "\n",
      "Predicted genre:  thriller\n",
      "\n",
      "Actual genre:  thriller \n",
      "\n",
      "-------------------------------\n",
      "\n",
      "Book:  Split Second\n",
      "\n",
      "Predicted genre:  thriller\n",
      "\n",
      "Actual genre:  thriller \n",
      "\n",
      "-------------------------------\n",
      "\n",
      "Book:  The Eight\n",
      "\n",
      "Predicted genre:  thriller\n",
      "\n",
      "Actual genre:  thriller \n",
      "\n",
      "-------------------------------\n",
      "\n",
      "Book:  Snow Crash\n",
      "\n",
      "Predicted genre:  fantasy\n",
      "\n",
      "Actual genre:  science_fiction \n",
      "\n",
      "-------------------------------\n",
      "\n",
      "Book:  Thinner\n",
      "\n",
      "Predicted genre:  thriller\n",
      "\n",
      "Actual genre:  thriller \n",
      "\n",
      "-------------------------------\n",
      "\n",
      "Book:  Dreams of Gods & Monsters\n",
      "\n",
      "Predicted genre:  fantasy\n",
      "\n",
      "Actual genre:  fantasy \n",
      "\n",
      "-------------------------------\n",
      "\n",
      "Book:  Then She Was Gone\n",
      "\n",
      "Predicted genre:  thriller\n",
      "\n",
      "Actual genre:  thriller \n",
      "\n",
      "-------------------------------\n",
      "\n",
      "Book:  Roomies\n",
      "\n",
      "Predicted genre:  thriller\n",
      "\n",
      "Actual genre:  romance \n",
      "\n",
      "-------------------------------\n",
      "\n",
      "Book:  You Are Not So Smart: Why You Have Too Many Friends on Facebook, Why Your Memory Is Mostly Fiction, and 46 Other Ways You're Deluding Yourself\n",
      "\n",
      "Predicted genre:  psychology\n",
      "\n",
      "Actual genre:  psychology \n",
      "\n",
      "-------------------------------\n",
      "\n",
      "Book:  Attached: The New Science of Adult Attachment and How It Can Help You Find—and Keep—Love\n",
      "\n",
      "Predicted genre:  psychology\n",
      "\n",
      "Actual genre:  psychology \n",
      "\n",
      "-------------------------------\n",
      "\n",
      "Book:  Soul Music\n",
      "\n",
      "Predicted genre:  fantasy\n",
      "\n",
      "Actual genre:  fantasy \n",
      "\n",
      "-------------------------------\n",
      "\n",
      "Book:  The Shadow of the Wind\n",
      "\n",
      "Predicted genre:  fantasy\n",
      "\n",
      "Actual genre:  thriller \n",
      "\n",
      "-------------------------------\n",
      "\n",
      "Book:  The Chamber\n",
      "\n",
      "Predicted genre:  thriller\n",
      "\n",
      "Actual genre:  thriller \n",
      "\n",
      "-------------------------------\n",
      "\n",
      "Book:  The Left Hand of Darkness\n",
      "\n",
      "Predicted genre:  science_fiction\n",
      "\n",
      "Actual genre:  science_fiction \n",
      "\n",
      "-------------------------------\n",
      "\n",
      "Book:  Taking a Shot\n",
      "\n",
      "Predicted genre:  sports\n",
      "\n",
      "Actual genre:  sports \n",
      "\n",
      "-------------------------------\n",
      "\n",
      "Book:  How to Win Friends and Influence People\n",
      "\n",
      "Predicted genre:  psychology\n",
      "\n",
      "Actual genre:  psychology \n",
      "\n",
      "-------------------------------\n",
      "\n",
      "Book:  Knife of Dreams\n",
      "\n",
      "Predicted genre:  fantasy\n",
      "\n",
      "Actual genre:  fantasy \n",
      "\n",
      "-------------------------------\n",
      "\n",
      "Book:  Black House\n",
      "\n",
      "Predicted genre:  thriller\n",
      "\n",
      "Actual genre:  horror \n",
      "\n",
      "-------------------------------\n",
      "\n",
      "Book:  The Son\n",
      "\n",
      "Predicted genre:  thriller\n",
      "\n",
      "Actual genre:  thriller \n",
      "\n",
      "-------------------------------\n",
      "\n",
      "Book:  The Witching Hour\n",
      "\n",
      "Predicted genre:  fantasy\n",
      "\n",
      "Actual genre:  horror \n",
      "\n",
      "-------------------------------\n",
      "\n",
      "Book:  The President Is Missing\n",
      "\n",
      "Predicted genre:  thriller\n",
      "\n",
      "Actual genre:  thriller \n",
      "\n",
      "-------------------------------\n",
      "\n",
      "Book:  From a Buick 8\n",
      "\n",
      "Predicted genre:  thriller\n",
      "\n",
      "Actual genre:  horror \n",
      "\n",
      "-------------------------------\n",
      "\n",
      "Book:  Attached: The New Science of Adult Attachment and How It Can Help You Find—and Keep—Love\n",
      "\n",
      "Predicted genre:  psychology\n",
      "\n",
      "Actual genre:  psychology \n",
      "\n",
      "-------------------------------\n",
      "\n",
      "Book:  Death on the Nile\n",
      "\n",
      "Predicted genre:  thriller\n",
      "\n",
      "Actual genre:  thriller \n",
      "\n",
      "-------------------------------\n",
      "\n",
      "Book:  Kushiel's Dart\n",
      "\n",
      "Predicted genre:  fantasy\n",
      "\n",
      "Actual genre:  fantasy \n",
      "\n",
      "-------------------------------\n",
      "\n",
      "Book:  Daisy Darker\n",
      "\n",
      "Predicted genre:  thriller\n",
      "\n",
      "Actual genre:  thriller \n",
      "\n",
      "-------------------------------\n",
      "\n",
      "Book:  Hannibal Rising\n",
      "\n",
      "Predicted genre:  fantasy\n",
      "\n",
      "Actual genre:  thriller \n",
      "\n",
      "-------------------------------\n",
      "\n",
      "Book:  Layla\n",
      "\n",
      "Predicted genre:  romance\n",
      "\n",
      "Actual genre:  thriller \n",
      "\n",
      "-------------------------------\n",
      "\n",
      "Book:  Echo Burning\n",
      "\n",
      "Predicted genre:  thriller\n",
      "\n",
      "Actual genre:  thriller \n",
      "\n",
      "-------------------------------\n",
      "\n",
      "Book:  From Blood and Ash\n",
      "\n",
      "Predicted genre:  fantasy\n",
      "\n",
      "Actual genre:  fantasy \n",
      "\n",
      "-------------------------------\n",
      "\n",
      "Book:  Snow Like Ashes\n",
      "\n",
      "Predicted genre:  fantasy\n",
      "\n",
      "Actual genre:  fantasy \n",
      "\n",
      "-------------------------------\n",
      "\n",
      "Book:  Forever Odd\n",
      "\n",
      "Predicted genre:  thriller\n",
      "\n",
      "Actual genre:  thriller \n",
      "\n",
      "-------------------------------\n",
      "\n",
      "Book:  Uzumaki\n",
      "\n",
      "Predicted genre:  thriller\n",
      "\n",
      "Actual genre:  horror \n",
      "\n",
      "-------------------------------\n",
      "\n",
      "Book:  Salt: A World History\n",
      "\n",
      "Predicted genre:  history\n",
      "\n",
      "Actual genre:  history \n",
      "\n",
      "-------------------------------\n",
      "\n",
      "Book:  The Push\n",
      "\n",
      "Predicted genre:  thriller\n",
      "\n",
      "Actual genre:  thriller \n",
      "\n",
      "-------------------------------\n",
      "Executed in  0:00:00.260304\n"
     ]
    }
   ],
   "source": [
    "start=datetime.now()\n",
    "\n",
    "def infertag(q):\n",
    "    q = clean(q)\n",
    "    q = removestopwords(q)\n",
    "    q = lematizing(q)\n",
    "    q = stemming(q)\n",
    "    q_vec = tfidf_vectorizer.transform([q])\n",
    "    q_pred = svc.predict(q_vec)\n",
    "    return LE.inverse_transform(q_pred)[0]\n",
    "                                               #return q_pred[0]\n",
    "for i in range(50): \n",
    "  k = xval.sample(1).index[0] \n",
    "  \n",
    "  print(\"\\nBook: \", book2['title'][k], )\n",
    "  print(\"\\nPredicted genre: \", infertag(xval[k]))\n",
    "  print(\"\\nActual genre: \",book2['genre'][k], \"\\n\")\n",
    "  print(\"-------------------------------\")\n",
    "\n",
    "print(\"Executed in \",datetime.now()-start)"
   ]
  },
  {
   "cell_type": "markdown",
   "id": "b241e56b",
   "metadata": {},
   "source": [
    "Where the model confused some words like horror, thriller, because it contain similar words. we can handle this if we more data of genres"
   ]
  },
  {
   "cell_type": "markdown",
   "id": "d861aa6d",
   "metadata": {},
   "source": [
    "## Model for Prediction of Ratings. \n",
    "   ## Used Models\n",
    "   ## Linear Regression\n",
    "   ## Random Forest\n",
    "   Here, I used two models one is Regression and Random Forest. It can be used in both regression and classification. As, Linear Regression gave the best score. so, model can predict the ratings accurately."
   ]
  },
  {
   "cell_type": "code",
   "execution_count": 277,
   "id": "79eff02a",
   "metadata": {},
   "outputs": [],
   "source": [
    "label = book2['rating'].values  \n",
    "book2.drop(['title', 'name', 'num_ratings', 'num_reviews', 'num_followers', 'synopsis', 'genre'], axis=1, inplace=True)"
   ]
  },
  {
   "cell_type": "code",
   "execution_count": 278,
   "id": "7ffc0774",
   "metadata": {},
   "outputs": [],
   "source": [
    "from sklearn.model_selection import train_test_split\n",
    "X_train, X_test, y_train, y_test = train_test_split(book2, label, test_size=0.3)"
   ]
  },
  {
   "cell_type": "code",
   "execution_count": 279,
   "id": "d90a9795",
   "metadata": {},
   "outputs": [
    {
     "name": "stdout",
     "output_type": "stream",
     "text": [
      "Best Score:  100.0 \n",
      "Best Parameters:  {'fit_intercept': True, 'normalize': True}\n"
     ]
    }
   ],
   "source": [
    "model  = LinearRegression()\n",
    "\n",
    "parameters =  {\n",
    "    'fit_intercept': [True, False], ## linear Regression model is the best fit inorder to predict ratings. As it has the best score 100%.\n",
    "    'normalize': [True, False],\n",
    "    \n",
    "}\n",
    "\n",
    "grad_Linear = GridSearchCV(model, parameters, refit=True)\n",
    "grad_Linear.fit(X_train, y_train)\n",
    "\n",
    "print('Best Score: ', grad_Linear.best_score_*100, '\\nBest Parameters: ', grad_Linear.best_params_) "
   ]
  },
  {
   "cell_type": "code",
   "execution_count": 280,
   "id": "95af4037",
   "metadata": {},
   "outputs": [
    {
     "name": "stdout",
     "output_type": "stream",
     "text": [
      "Best Score:  99.82005386612352 \n",
      "Best Parameters:  {'max_depth': 7, 'min_samples_leaf': 5, 'min_samples_split': 10, 'n_estimators': 100}\n"
     ]
    }
   ],
   "source": [
    "model = RandomForestRegressor()\n",
    "\n",
    "parameters = {\n",
    "    'n_estimators': [50, 100, 150, 200],\n",
    "    'max_depth': [3, 5, 7, 10, 12, 15],\n",
    "    'min_samples_split': [5, 10, 15],\n",
    "    'min_samples_leaf': [5, 10, 15]\n",
    "}\n",
    "\n",
    "grad_rf = GridSearchCV(model, parameters, refit=True, cv=10)\n",
    "grad_rf.fit(X_train, y_train)\n",
    "\n",
    "print('Best Score: ', grad_rf.best_score_*100, '\\nBest Parameters: ', grad_rf.best_params_)"
   ]
  },
  {
   "cell_type": "code",
   "execution_count": 284,
   "id": "e87ba154",
   "metadata": {},
   "outputs": [],
   "source": [
    "l = []\n",
    "l.append(('Linear Regression', grad_Linear.best_score_*100))\n",
    "l.append(('Random Forest', grad_rf.best_score_*100))\n",
    "scores = pd.DataFrame(l, columns =['Model', 'Train Score'])"
   ]
  },
  {
   "cell_type": "markdown",
   "id": "44daae79",
   "metadata": {},
   "source": [
    "## Predictions by using using above 2 Models"
   ]
  },
  {
   "cell_type": "code",
   "execution_count": 285,
   "id": "9c3f98ef",
   "metadata": {},
   "outputs": [],
   "source": [
    "from sklearn.metrics import r2_score, mean_squared_error, accuracy_score"
   ]
  },
  {
   "cell_type": "code",
   "execution_count": 286,
   "id": "42a4f16b",
   "metadata": {},
   "outputs": [
    {
     "name": "stdout",
     "output_type": "stream",
     "text": [
      "Residual sum of squares:  4.268727842105042e-34\n",
      "RMSE: 2.0660899888690818e-17\n",
      "Model Score on Test Data:  1.0\n"
     ]
    }
   ],
   "source": [
    "# Linear Regression Model\n",
    "pred_lr = grad_Linear.predict(X_test)\n",
    "\n",
    "# Checking Model Score on Test Data\n",
    "print(\"Residual sum of squares: \",  np.mean((pred_lr - y_test) ** 2))\n",
    "print('RMSE: '+str(np.sqrt(mean_squared_error(y_test, pred_lr))))\n",
    "print('Model Score on Test Data: ', grad_Linear.score(X_test, y_test))  "
   ]
  },
  {
   "cell_type": "code",
   "execution_count": 287,
   "id": "2450801a",
   "metadata": {},
   "outputs": [
    {
     "name": "stdout",
     "output_type": "stream",
     "text": [
      "Residual sum of squares:  0.000903310974816937\n",
      "RMSE: 0.030055132254191413\n",
      "Model Score on Test Data:  0.9844686852895248\n"
     ]
    }
   ],
   "source": [
    "# Random Forest Model\n",
    "pred_rf = grad_rf.predict(X_test)\n",
    "\n",
    "# Checking Model Score on Test Data\n",
    "print(\"Residual sum of squares: \",  np.mean((pred_rf - y_test) ** 2))\n",
    "print('RMSE: '+str(np.sqrt(mean_squared_error(y_test, pred_rf))))\n",
    "print('Model Score on Test Data: ', grad_rf.score(X_test, y_test))"
   ]
  },
  {
   "cell_type": "code",
   "execution_count": 288,
   "id": "9e73e6ca",
   "metadata": {},
   "outputs": [],
   "source": [
    "l2 = []\n",
    "l2.append(('Linear Regression', grad_Linear.score(X_test, y_test)*100))\n",
    "l2.append(('Random Forest', grad_rf.score(X_test, y_test)*100))\n",
    "test_scores = pd.DataFrame(l2, columns =['Model', 'Test Score'])"
   ]
  },
  {
   "cell_type": "code",
   "execution_count": 289,
   "id": "cfc96a02",
   "metadata": {},
   "outputs": [
    {
     "data": {
      "text/html": [
       "<div>\n",
       "<style scoped>\n",
       "    .dataframe tbody tr th:only-of-type {\n",
       "        vertical-align: middle;\n",
       "    }\n",
       "\n",
       "    .dataframe tbody tr th {\n",
       "        vertical-align: top;\n",
       "    }\n",
       "\n",
       "    .dataframe thead th {\n",
       "        text-align: right;\n",
       "    }\n",
       "</style>\n",
       "<table border=\"1\" class=\"dataframe\">\n",
       "  <thead>\n",
       "    <tr style=\"text-align: right;\">\n",
       "      <th></th>\n",
       "      <th>Model</th>\n",
       "      <th>Train Score</th>\n",
       "      <th>Test Score</th>\n",
       "    </tr>\n",
       "  </thead>\n",
       "  <tbody>\n",
       "    <tr>\n",
       "      <th>0</th>\n",
       "      <td>Linear Regression</td>\n",
       "      <td>100.000000</td>\n",
       "      <td>100.000000</td>\n",
       "    </tr>\n",
       "    <tr>\n",
       "      <th>1</th>\n",
       "      <td>Random Forest</td>\n",
       "      <td>99.820054</td>\n",
       "      <td>98.446869</td>\n",
       "    </tr>\n",
       "  </tbody>\n",
       "</table>\n",
       "</div>"
      ],
      "text/plain": [
       "               Model  Train Score  Test Score\n",
       "0  Linear Regression   100.000000  100.000000\n",
       "1      Random Forest    99.820054   98.446869"
      ]
     },
     "execution_count": 289,
     "metadata": {},
     "output_type": "execute_result"
    }
   ],
   "source": [
    "scores['Test Score'] = test_scores['Test Score'] ## \n",
    "scores"
   ]
  },
  {
   "cell_type": "code",
   "execution_count": 290,
   "id": "ca86bba7",
   "metadata": {},
   "outputs": [
    {
     "data": {
      "text/plain": [
       "<AxesSubplot:>"
      ]
     },
     "execution_count": 290,
     "metadata": {},
     "output_type": "execute_result"
    },
    {
     "data": {
      "image/png": "[encoded data removed]",
      "text/plain": [
       "<Figure size 432x288 with 1 Axes>"
      ]
     },
     "metadata": {
      "needs_background": "light"
     },
     "output_type": "display_data"
    }
   ],
   "source": [
    "scores.plot.bar()"
   ]
  },
  {
   "cell_type": "markdown",
   "id": "cd1c2cc0",
   "metadata": {},
   "source": [
    "From above we can see that the linear regression give the best score and gave the model to predict ratings. As well as random forest also gave the best accurate score."
   ]
  },
  {
   "cell_type": "code",
   "execution_count": null,
   "id": "aadb53bf",
   "metadata": {},
   "outputs": [],
   "source": []
  }
 ],
 "metadata": {
  "kernelspec": {
   "display_name": "Python 3",
   "language": "python",
   "name": "python3"
  },
  "language_info": {
   "codemirror_mode": {
    "name": "ipython",
    "version": 3
   },
   "file_extension": ".py",
   "mimetype": "text/x-python",
   "name": "python",
   "nbconvert_exporter": "python",
   "pygments_lexer": "ipython3",
   "version": "3.8.8"
  }
 },
 "nbformat": 4,
 "nbformat_minor": 5
}
